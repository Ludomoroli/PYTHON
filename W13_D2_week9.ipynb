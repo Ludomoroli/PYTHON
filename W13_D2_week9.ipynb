{
 "cells": [
  {
   "cell_type": "code",
   "execution_count": 12,
   "id": "1100e07a-f8dc-4c08-947e-bbe929402e62",
   "metadata": {},
   "outputs": [
    {
     "name": "stdout",
     "output_type": "stream",
     "text": [
      "E\n",
      "p\n",
      "i\n",
      "c\n",
      "o\n",
      "d\n",
      "e\n"
     ]
    }
   ],
   "source": [
    "\"\"\" Esercizio 1\n",
    "Abbiamo la stringa: nome_scuola = \"Epicode\" \n",
    "Stampare ogni carattere della stringa, uno su ogni riga, utilizzando un costrutto while. \"\"\"\n",
    "\n",
    "nome_scuola = \"Epicode\"\n",
    "contatore = 0\n",
    "while contatore < len(nome_scuola):\n",
    "    print(nome_scuola[contatore])\n",
    "    contatore += 1\n",
    "  \n"
   ]
  },
  {
   "cell_type": "code",
   "execution_count": 11,
   "id": "72bfbc0a-91e4-48f7-a81a-db99035f3b58",
   "metadata": {},
   "outputs": [
    {
     "name": "stdout",
     "output_type": "stream",
     "text": [
      "[0, 1, 2, 3, 4, 5, 6, 7, 8, 9, 10, 11, 12, 13, 14, 15, 16, 17, 18, 19, 20]\n"
     ]
    }
   ],
   "source": [
    "\"\"\"Esercizio 2\n",
    "Stampare a video tutti i numeri da 0 a 20 utilizzando il costrutto while. \n",
    "Utilizzeremo: • un ciclo while • la funzione print() \n",
    "• una variabile, che dovrà essere inizializzata • una procedura di incremento \"\"\"\n",
    "\n",
    "numero = 0\n",
    "lista_numeri = []\n",
    "while numero <=20:\n",
    "    lista_numeri.append(numero)\n",
    "    numero +=1\n",
    "print (lista_numeri)\n",
    "\n"
   ]
  },
  {
   "cell_type": "code",
   "execution_count": 14,
   "id": "f00be29f-09d0-4282-acb3-1103e72229f6",
   "metadata": {},
   "outputs": [
    {
     "name": "stdout",
     "output_type": "stream",
     "text": [
      "1\n",
      "2\n",
      "4\n",
      "8\n",
      "16\n",
      "32\n",
      "64\n",
      "128\n",
      "256\n",
      "512\n",
      "1024\n"
     ]
    }
   ],
   "source": [
    "\"\"\"Esercizio 3\n",
    "Calcolare e stampare tutte le prime 10 potenze di 2 (e.g., 2⁰, 2¹, 2², …) utilizzando un ciclo while.\"\"\"\n",
    "\n",
    "numero = 2\n",
    "potenza = 0\n",
    "while potenza <=10:\n",
    "    print(numero**potenza)\n",
    "    potenza +=1"
   ]
  },
  {
   "cell_type": "code",
   "execution_count": 21,
   "id": "a04c5da6-76cb-46d2-89a2-e14a0795dba9",
   "metadata": {},
   "outputs": [
    {
     "name": "stdin",
     "output_type": "stream",
     "text": [
      "inserisci un numero: 5\n"
     ]
    },
    {
     "name": "stdout",
     "output_type": "stream",
     "text": [
      "2^0 = 1\n",
      "2^1 = 2\n",
      "2^2 = 4\n",
      "2^3 = 8\n",
      "2^4 = 16\n",
      "2^5 = 32\n"
     ]
    }
   ],
   "source": [
    "\"\"\"Esercizio 4\n",
    "Calcolare e stampare tutte le prime N potenze di 2 utilizzando un ciclo while, \n",
    "domandando all'utente di inserire N. \"\"\"\n",
    "\n",
    "numero = int(input(\"inserisci un numero:\"))\n",
    "i = 0\n",
    "while i <= numero:\n",
    "    print(f\"2^{i} = {2**i}\")\n",
    "    i += 1"
   ]
  },
  {
   "cell_type": "code",
   "execution_count": 23,
   "id": "26c971c9-089e-4571-93d4-fcf1c060199a",
   "metadata": {},
   "outputs": [
    {
     "name": "stdin",
     "output_type": "stream",
     "text": [
      "inserisci 3 esponenti: 2,3,4\n"
     ]
    },
    {
     "name": "stdout",
     "output_type": "stream",
     "text": [
      "4\n",
      "8\n",
      "16\n"
     ]
    }
   ],
   "source": [
    "numero = 2\n",
    "stringa = input(\"inserisci 3 esponenti:\")\n",
    "lista = stringa.split(\",\")\n",
    "for i in lista:\n",
    "    print(numero**int(i))"
   ]
  },
  {
   "cell_type": "code",
   "execution_count": 29,
   "id": "23b9268b-9bb6-4024-bc84-2823fab87a01",
   "metadata": {},
   "outputs": [
    {
     "name": "stdout",
     "output_type": "stream",
     "text": [
      "1\n",
      "2\n",
      "4\n",
      "8\n",
      "16\n",
      "32\n",
      "64\n",
      "128\n",
      "256\n",
      "512\n",
      "1024\n",
      "2048\n",
      "4096\n",
      "8192\n",
      "16384\n"
     ]
    }
   ],
   "source": [
    "\"\"\" Esercizio 5\n",
    "Calcolare e stampare tutte le potenze di 2 minori di 25000.\"\"\"\n",
    "\n",
    "limite = 25000\n",
    "i = 0 #contatore\n",
    "risultato_potenza = 0\n",
    "\n",
    "# Ciclo per calcolare e stampare le potenze di 2 minori di 25000\n",
    "while risultato_potenza < limite:\n",
    "    risultato_potenza = 2**i\n",
    "    i += 1\n",
    "    if risultato_potenza <= limite:\n",
    "        print(risultato_potenza) \n"
   ]
  },
  {
   "cell_type": "code",
   "execution_count": 34,
   "id": "3bc0da21-aff0-42f6-bd65-0031a15a246c",
   "metadata": {},
   "outputs": [
    {
     "name": "stdout",
     "output_type": "stream",
     "text": [
      "0\n",
      "1\n",
      "2\n",
      "4\n",
      "8\n",
      "16\n",
      "32\n",
      "64\n",
      "128\n",
      "256\n",
      "512\n",
      "1024\n",
      "2048\n",
      "4096\n",
      "8192\n",
      "16384\n"
     ]
    }
   ],
   "source": [
    "limite = 25000\n",
    "i = 0 #contatore\n",
    "risultato_potenza = 0\n",
    "\n",
    "while risultato_potenza < limite:\n",
    "    print(risultato_potenza) \n",
    "    risultato_potenza = 2**i\n",
    "    i += 1\n",
    "    "
   ]
  },
  {
   "cell_type": "code",
   "execution_count": 35,
   "id": "0769d1e3-9292-4834-91d0-6bb26c493e21",
   "metadata": {},
   "outputs": [
    {
     "name": "stdout",
     "output_type": "stream",
     "text": [
      "Alex - Cybersecurity\n",
      "Bob - Data Analyst\n",
      "Cindy - Backend\n",
      "Dan - Frontend\n",
      "Emma - Data Analyst\n",
      "Faith - Backend\n",
      "Grace - Frontend\n",
      "Henry - Cybersecurity\n"
     ]
    }
   ],
   "source": [
    "\"\"\" Esercizio 6\n",
    "(1/2) Abbiamo due liste, una di studenti e una di corsi: \"\"\" \n",
    "\n",
    "studenti = [\"Alex\", \"Bob\", \"Cindy\", \"Dan\", \"Emma\", \"Faith\", \"Grace\", \"Henry\"] \n",
    "corsi = [\"Cybersecurity\", \"Data Analyst\", \"Backend\", \"Frontend\", \"Data Analyst\", \"Backend\"]\n",
    "\n",
    "\"\"\" Aggiungere i dati mancanti alla lista corsi, sapendo che Emma segue Data Analyst \n",
    "Faith segue Backend Grace segue Frontend Henry segue Cybersecurity \n",
    "Aggiungeremo i dati mancanti uno alla volta con il metodo per appendere in coda alle liste, \n",
    "poi verificheremo che sono della stessa lunghezza e se lo sono stamperemo la lista corsi. \n",
    "Se alcuni dati sono già presenti non vanno aggiunti di nuovo \"\"\"\n",
    "\n",
    "# inserisco i due corsi che mancano\n",
    "corsi.append(\"Frontend\")                     #append inserisce un dato alla fine della funzione\n",
    "corsi.append(\"Cybersecurity\")\n",
    "\n",
    "for studenti, corsi in zip(studenti, corsi):\n",
    "    print(studenti, \"-\",corsi)"
   ]
  },
  {
   "cell_type": "code",
   "execution_count": 37,
   "id": "3b941218-f74e-4bde-938c-155dbb17a20f",
   "metadata": {},
   "outputs": [
    {
     "name": "stdin",
     "output_type": "stream",
     "text": [
      "Inserisci una stringa:  epicode\n"
     ]
    },
    {
     "name": "stdout",
     "output_type": "stream",
     "text": [
      "epi...ode\n"
     ]
    }
   ],
   "source": [
    "\"\"\" Esercizio 7\n",
    "Scriviamo un programma che chiede in input all'utente una stringa e visualizza i primi 3 caratteri, \n",
    "seguiti da 3 punti di sospensione e quindi gli ultimi 3 caratteri, similmente all'esercizio della lezione scorsa. \n",
    "Stavolta facciamo attenzione a tutti i casi particolari, \n",
    "ovvero implementare soluzioni ad hoc per stringhe di lunghezza inferiore a 6 caratteri.\"\"\"\n",
    "\n",
    "stringa = input(\"Inserisci una stringa: \")\n",
    "\n",
    "output = stringa[:3]+\"...\"+ stringa[-3:]\n",
    "\n",
    "print(output)\n"
   ]
  },
  {
   "cell_type": "code",
   "execution_count": 43,
   "id": "83999a6f-5df1-4ab0-a699-d7439020a768",
   "metadata": {},
   "outputs": [
    {
     "name": "stdin",
     "output_type": "stream",
     "text": [
      "Inserisci una stringa:  epicode\n"
     ]
    },
    {
     "name": "stdout",
     "output_type": "stream",
     "text": [
      "epi...ode\n"
     ]
    }
   ],
   "source": [
    "stringa = input(\"Inserisci una stringa: \")\n",
    "\n",
    "if len(stringa) >= 6:\n",
    "    output = stringa[:3]+\"...\"+ stringa[-3:]\n",
    "    print(output)\n",
    "else:\n",
    "    output = stringa[:int(len(stringa)/2)]+\"...\"+ stringa[int(-(len(stringa)/2)):]\n",
    "    print(output)"
   ]
  },
  {
   "cell_type": "code",
   "execution_count": 60,
   "id": "e98ecfa0-f8a0-45a0-b65b-b0a1213c25d0",
   "metadata": {},
   "outputs": [
    {
     "name": "stdin",
     "output_type": "stream",
     "text": [
      "Inserisci un numero:  250\n"
     ]
    },
    {
     "name": "stdout",
     "output_type": "stream",
     "text": [
      "125 - 2\n",
      "25 - 5\n",
      "5 - 5\n",
      "1 - 5\n",
      "[2, 5, 5, 5]\n"
     ]
    }
   ],
   "source": [
    "\"\"\" Esercizio 8\n",
    "Memorizza e stampa tutti i fattori di un numero dato in input. Esempio: • input: 150 • output: [2, 3, 5, 5]\"\"\"\n",
    "\n",
    "num = int(input(\"Inserisci un numero: \"))\n",
    "divisore = 2\n",
    "fattori = []\n",
    "while num > 1:\n",
    "    if  num % divisore == 0:         #vuol dire il modulo, cioè il resto deve essere uguale a 0\n",
    "        fattori.append(divisore)\n",
    "        num //= divisore                   #// vuol dire divisione intera, senza \"vedere\" il resto\n",
    "        print(num, \"-\",divisore)\n",
    "    \n",
    "    else:\n",
    "        divisore +=1\n",
    "        \n",
    "print(fattori)   "
   ]
  },
  {
   "cell_type": "code",
   "execution_count": 47,
   "id": "82784414-1fe6-4bf5-9637-3e24f9206052",
   "metadata": {},
   "outputs": [
    {
     "name": "stdout",
     "output_type": "stream",
     "text": [
      "E\n",
      "p\n",
      "i\n",
      "c\n",
      "o\n",
      "d\n",
      "e\n"
     ]
    }
   ],
   "source": [
    "\"\"\" Esercizio 9\n",
    "Abbiamo la stringa:\"\"\"\n",
    "\n",
    "nome_scuola = \"Epicode\" \n",
    "\n",
    "\"\"\" Stampare ogni carattere della stringa, uno su ogni riga, utilizzando un costrutto for.\"\"\" \n",
    "\n",
    "for lettera in nome_scuola:\n",
    "  print(lettera)\n"
   ]
  },
  {
   "cell_type": "code",
   "execution_count": 61,
   "id": "285fd87e-971d-42a7-850c-a51e3b660821",
   "metadata": {},
   "outputs": [
    {
     "name": "stdout",
     "output_type": "stream",
     "text": [
      "2\n",
      "4\n",
      "8\n",
      "16\n",
      "32\n",
      "64\n",
      "128\n",
      "256\n",
      "512\n",
      "1024\n"
     ]
    }
   ],
   "source": [
    "\"\"\" Esercizio 10\n",
    "Calcolare e stampare tutte le prime 10 potenze di 2 utilizzando un ciclo. \n",
    "Utilizzeremo: • un ciclo per generare i primi 10 numeri, \n",
    "e.g.: range_numerico = list()  # init num = 1  # init while num <= 10: range_numerico.append(num) num += 1\"\"\"\n",
    "\n",
    "for x in range(1, 11):\n",
    "    print(2 ** x)\n",
    "\n"
   ]
  },
  {
   "cell_type": "code",
   "execution_count": null,
   "id": "d00ae032-9bd3-498b-a933-7ee0de4ae1aa",
   "metadata": {},
   "outputs": [],
   "source": [
    "\"\"\" Esercizio 11\n",
    "Calcolare (ma non stampare) le prime N potenze di K; ognuna di esse andrà memorizzata in coda a una lista. \n",
    "Alla fine, stampare la lista risultante. Proviamo con diversi valori di K, oppure facciamola inserire all'utente. \n",
    "Realizzare due versioni: • con un ciclo while, • con un ciclo for.\"\"\"\n",
    "\n",
    "\n",
    "\n"
   ]
  },
  {
   "cell_type": "code",
   "execution_count": 79,
   "id": "3392e18a-88c8-4737-a7a0-92738834d035",
   "metadata": {},
   "outputs": [
    {
     "name": "stdout",
     "output_type": "stream",
     "text": [
      "La media dei guadagni degli ultimi 12 mesi è: 70.0\n"
     ]
    }
   ],
   "source": [
    "\"\"\" Esercizio 12\n",
    "Abbiamo una lista con i guadagni degli ultimi 12 mesi: \"\"\"\n",
    "guadagni = [100, 90, 70, 40, 50, 80, 90, 120, 80, 20, 50, 50] \n",
    "\n",
    "\"\"\"usando un costrutto for, \n",
    "calcolare la media dei guadagni e stamparla a video.\"\"\"\n",
    "\n",
    "# Calcolare la media dei guadagni\n",
    "somma_guadagni = 0\n",
    "for guadagno in guadagni:\n",
    "    somma_guadagni += guadagno\n",
    "\n",
    "media_guadagni = somma_guadagni / len(guadagni)\n",
    "\n",
    "# Stampare la media dei guadagni\n",
    "print(\"La media dei guadagni degli ultimi 12 mesi è:\", media_guadagni)"
   ]
  },
  {
   "cell_type": "code",
   "execution_count": 63,
   "id": "e1bb5577-c877-41a3-9d88-e71ae154f03c",
   "metadata": {},
   "outputs": [
    {
     "name": "stdout",
     "output_type": "stream",
     "text": [
      "Albergo 1\n",
      "Sedia 1\n",
      "Borgo 0\n",
      "Petalo 1\n",
      "Eremo 2\n",
      "Belvedere 4\n",
      "Semestre 3\n",
      "Esteta 2\n",
      "Sosta 0\n",
      "Orpello 1\n",
      "Abete 2\n",
      "Orologio 0\n",
      "Cesta 1\n",
      "Ermellino 2\n"
     ]
    }
   ],
   "source": [
    "\"\"\" Esercizio 13\n",
    "Abbiamo una lista di parole: \"\"\"\n",
    "\n",
    "parole = [\"Albergo\", \"Sedia\", \"Borgo\", \"Petalo\", \"Eremo\", \"Belvedere\", \"Semestre\", \"Esteta\", \n",
    "\"Sosta\", \"Orpello\", \"Abete\", \"Orologio\", \"Cesta\", \"Ermellino\"] \n",
    "\n",
    "\"\"\"stampiamo, per ogni parola, quante volte appare la lettera \"e\"; \n",
    "facciamo attenzione al fatto che appare sia maiuscola che minuscola.\"\"\"\n",
    "\n",
    "for parola in parole:\n",
    "    print(parola, parola.lower().count(\"e\"))\n"
   ]
  },
  {
   "cell_type": "code",
   "execution_count": 76,
   "id": "f12dc2e4-d352-4f1d-96c8-4994ba9484b8",
   "metadata": {},
   "outputs": [
    {
     "name": "stdout",
     "output_type": "stream",
     "text": [
      "{'Ada': 'Punto', 'Ben': 'Multipla', 'Charlie': 'Golf', 'Debbie': '107'}\n",
      "L'auto di Debbie è la: 107\n"
     ]
    }
   ],
   "source": [
    "\"\"\" Esercizio 14\n",
    "Creiamo un dizionario che assegni ad ogni proprietario la sua auto, sapendo che: \n",
    "• Ada guida una Punto • Ben guida una Multipla • Charlie guida una Golf • Debbie guida una 107 \n",
    "Stampiamo il dizionario per intero, e poi l'auto associata a Debbie.\"\"\" \n",
    "\n",
    "dizionario_auto = {\"Ada\":\"Punto\", \"Ben\":\"Multipla\", \"Charlie\":\"Golf\", \"Debbie\":\"107\"}\n",
    "print(dizionario_auto)\n",
    "\n",
    "# Stampare l'auto associata a Debbie\n",
    "auto_di_debbie = dizionario_auto[\"Debbie\"]\n",
    "print(\"L'auto di Debbie è la:\", auto_di_debbie)\n"
   ]
  },
  {
   "cell_type": "code",
   "execution_count": 77,
   "id": "0f09d548-cebc-4a7c-90c5-de4f4fa93cac",
   "metadata": {},
   "outputs": [
    {
     "name": "stdout",
     "output_type": "stream",
     "text": [
      "Auto che non sono una Multipla:\n",
      "Punto\n",
      "Golf\n",
      "107\n"
     ]
    }
   ],
   "source": [
    "\"\"\" Esercizio 15\n",
    "Abbiamo un dizionario che assegna ad ogni proprietario la sua auto: \"\"\"\n",
    "\n",
    "dizionario_auto = {\"Ada\": \"Punto\", \"Ben\": \"Multipla\", \"Charlie\": \"Golf\", \"Debbie\": \"107\"} \n",
    "\n",
    "\"\"\"Con un ciclo, e usando il metodo .values(), stampiamo a video tutte le auto che non sono una Multipla.\"\"\"\n",
    "\n",
    "# Ciclo per stampare le auto che non sono una Multipla\n",
    "print(\"Auto che non sono una Multipla:\")\n",
    "for auto in dizionario_auto.values():\n",
    "    if auto != \"Multipla\":\n",
    "        print(auto)\n",
    "\n"
   ]
  },
  {
   "cell_type": "code",
   "execution_count": 78,
   "id": "f04d173c-8a4d-4c06-93a7-3211705784f8",
   "metadata": {},
   "outputs": [
    {
     "name": "stdout",
     "output_type": "stream",
     "text": [
      "Dizionario auto aggiornato:\n",
      "{'Ada': 'Punto', 'Ben': 'Polo', 'Charlie': 'Golf', 'Debbie': '107', 'Emily': 'A1', 'Fred': 'Octavia', 'Grace': 'Yaris', 'Hugh': 'Clio'}\n",
      "Ben ora guida: Polo\n"
     ]
    }
   ],
   "source": [
    "\"\"\" Esercizio 16\n",
    "Abbiamo due dizionari che assegnano ad ogni proprietario la propria auto: \"\"\"\n",
    "\n",
    "dizionario_auto = {\"Ada\": \"Punto\", \"Ben\": \"Multipla\", \"Charlie\": \"Golf\", \"Debbie\": \"107\", \"Emily\": \"A1\"} \n",
    "nuovi_proprietari = {\"Ben\": \"Polo\", \"Fred\": \"Octavia\", \"Grace\": \"Yaris\", \"Hugh\": \"Clio\"} \n",
    "\n",
    "\"\"\"Aggiornare il dizionario dizionario_auto con i dati contenuti in nuovi_proprietari e stamparlo. \n",
    "Cosa è successo a Ben?\"\"\"\n",
    "\n",
    "# Aggiornare il dizionario_auto con i dati di nuovi_proprietari\n",
    "dizionario_auto.update(nuovi_proprietari)\n",
    "\n",
    "# Stampare il dizionario aggiornato\n",
    "print(\"Dizionario auto aggiornato:\")\n",
    "print(dizionario_auto)\n",
    "\n",
    "# Verificare cosa è successo a Ben\n",
    "auto_di_ben = dizionario_auto.get(\"Ben\", \"Auto non trovata\")\n",
    "print(\"Ben ora guida:\", auto_di_ben)\n",
    "\n"
   ]
  },
  {
   "cell_type": "code",
   "execution_count": null,
   "id": "2e3a8b37-4f05-4ea6-b398-80b58784cfa8",
   "metadata": {},
   "outputs": [],
   "source": [
    "\"\"\" Esercizio 17\n",
    "Osservando la sintassi dei dizionari, possiamo notare qualche affinità con il formato JSON?\"\"\""
   ]
  },
  {
   "cell_type": "code",
   "execution_count": null,
   "id": "74b56ee0-7486-4b90-9343-878b9e1913dd",
   "metadata": {},
   "outputs": [],
   "source": [
    "\"\"\" Esercizio 18\n",
    "Scrivere un programma che, data una lista di numeri, \n",
    "fornisca in output il minimo e il massimo (possiamo usare o meno le funzioni built-in min() e max()).\"\"\""
   ]
  },
  {
   "cell_type": "code",
   "execution_count": null,
   "id": "3d90815f-af45-4d4d-a94e-92e929b67f8a",
   "metadata": {},
   "outputs": [],
   "source": [
    "\"\"\"Esercizio 19\n",
    "Scrivere un programma che, data una lista di numeri, fornisca in output i tre numeri più grandi; \n",
    "gestire il caso in cui la lista sia più corta di tre, e quando uno o più dei numeri selezionati sono uguali.\"\"\""
   ]
  },
  {
   "cell_type": "code",
   "execution_count": null,
   "id": "44680387-92fd-4559-8ac7-9ebf9b723dc6",
   "metadata": {},
   "outputs": [],
   "source": [
    "\"\"\" Esercizio 20\n",
    "Scrivere un programma che • in input acquisisce una lista di numeri e un numero K \n",
    "• in output, dovrà restituire la media di tutti i numeri nella lista maggiori o uguali a K \n",
    "• se non ce ne dovesse essere nessuno, dovrà stampare a schermo un messaggio adeguato.\"\"\""
   ]
  },
  {
   "cell_type": "code",
   "execution_count": null,
   "id": "e424c8e2-5564-4260-9e35-5bd962b26054",
   "metadata": {},
   "outputs": [],
   "source": [
    "\"\"\" Esercizio 21\n",
    "Scrivere un programma che, data una lista di numeri, \n",
    "come output stamperà lo stesso numero di asterischi su righe diverse, ottenendo una semplice visualizzazione grafica \n",
    "Esempio, \n",
    "supponendo di avere il seguente input: numeri = [5, 2, 3, 4] L'output sarà: ***** ** *** **** \"\"\""
   ]
  },
  {
   "cell_type": "code",
   "execution_count": null,
   "id": "fd7ef4e9-a3a7-41dd-abfb-ef7258ab2f98",
   "metadata": {},
   "outputs": [],
   "source": [
    "\"\"\" Esercizio 22\n",
    "Abbiamo una lista di codici fiscali: l\n",
    "ista_cf = [\"ABCDEF95G01A123B\", \"GHIJKL91M02A321C\", \"MNOPQR89S03A456D\", \"STUVWX95Z04A654E\", \"XYZABC01D05A789F\", \"DEFGHI95J06A987G\"] \n",
    "• trovare i codici fiscali che contengono \"95\", metterli in una lista, e alla fine stamparla; \n",
    "• inoltre, per ognuno di essi, stampare a video i caratteri relativi al nome e quelli relativi al cognome\"\"\""
   ]
  },
  {
   "cell_type": "code",
   "execution_count": null,
   "id": "ea700a72-8e68-41a5-be3e-878e6d0f854e",
   "metadata": {},
   "outputs": [],
   "source": [
    "\"\"\" Esercizio 23\n",
    "Abbiamo tre liste della stessa lunghezza, dove ogni elemento nella medesima posizione si riferisce ai dati dello stesso studente:\n",
    "studenti = [\"Alex\", \"Bob\", \"Cindy\", \"Dan\", \"Emma\", \"Faith\", \"Grace\", \"Henry\"] \n",
    "corsi = [\"Cybersecurity\", \"Data Analyst\", \"Backend\", \"Frontend\", \"Data Analyst\", \"Backend\", \"Frontend\", \"Cybersecurity\"] \n",
    "edizioni = [1, 2, 3, 2, 2, 1, 3, 3] \n",
    "• Stampare a video tutti e soli gli studenti che frequentano una prima edizione; non tutti i dati potrebbero essere necessari."
   ]
  },
  {
   "cell_type": "code",
   "execution_count": null,
   "id": "2aa74368-ecfb-4bac-9861-41e79da08fa8",
   "metadata": {},
   "outputs": [],
   "source": [
    "\"\"\" Esercizio 24\n",
    "Abbiamo una lista di stringhe di prezzi in dollari, che erroneamente sono stati scritti con il simbolo dell'euro: \n",
    "prezzi = [\"100 €\", \"200 €\", \"500 €\", \"10 €\", \"50 €\", \"70 €\"] cambiare il simbolo dell'euro (€) in quello del dollaro ($) \n",
    "per ogni stringa nella lista; \n",
    "il risultato sarà memorizzato in un'altra lista.\"\"\""
   ]
  },
  {
   "cell_type": "code",
   "execution_count": null,
   "id": "4de3ee41-b144-40cb-a429-9edadae8ef01",
   "metadata": {},
   "outputs": [],
   "source": [
    "\"\"\" Esercizio 25\n",
    "Abbiamo una lista di studenti: \n",
    "studenti = [\"Alex\", \"Bob\", \"Cindy\", \"Dan\", \"Emma\", \"Faith\", \"Grace\", \"Henry\", \"Isabelle\", \"John\"] \n",
    "vogliamo dividere gli studenti in due squadre per un campionato di Uno nel seguente modo: \n",
    "selezioneremo i nomi in posizione pari per un squadra, \n",
    "e i nomi in posizione dispari per l'altra. \n",
    "Creiamo due liste per ogni squadra, e alla fine visualizziamole.\"\"\""
   ]
  },
  {
   "cell_type": "code",
   "execution_count": null,
   "id": "cc296bde-608e-447e-a20c-3d1c6348d295",
   "metadata": {},
   "outputs": [],
   "source": [
    "\"\"\" Esercizio 26\n",
    "Abbiamo una lista con i guadagni degli ultimi 12 mesi (supponiamo da Gennaio a Dicembre): \n",
    "guadagni = [100, 90, 70, 40, 50, 80, 90, 120, 80, 20, 50, 50] dobbiamo confrontare, \n",
    "stampando tutto a video, il guadagno di ogni mese con la media dei guadagni precedenti, \n",
    "e specificare nell'output se il guadagno attuale è maggiore o minore della media dei precedenti. \n",
    "Esempio di un possibile output: Mese 1: 100 € Mese 2: 90 € (media prec: 100 € - il guadagno attuale è minore)\"\"\""
   ]
  }
 ],
 "metadata": {
  "kernelspec": {
   "display_name": "Python 3 (ipykernel)",
   "language": "python",
   "name": "python3"
  },
  "language_info": {
   "codemirror_mode": {
    "name": "ipython",
    "version": 3
   },
   "file_extension": ".py",
   "mimetype": "text/x-python",
   "name": "python",
   "nbconvert_exporter": "python",
   "pygments_lexer": "ipython3",
   "version": "3.11.7"
  }
 },
 "nbformat": 4,
 "nbformat_minor": 5
}

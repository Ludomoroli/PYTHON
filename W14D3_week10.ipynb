{
 "cells": [
  {
   "cell_type": "code",
   "execution_count": 3,
   "id": "9661611d-3cfc-4baf-98ef-2fab654f0a2a",
   "metadata": {},
   "outputs": [],
   "source": [
    "import numpy as np\n",
    "import pandas as pd\n"
   ]
  },
  {
   "cell_type": "code",
   "execution_count": 18,
   "id": "812a0c24-0863-44ba-b959-bf158a8bb49d",
   "metadata": {},
   "outputs": [],
   "source": [
    "import math"
   ]
  },
  {
   "cell_type": "code",
   "execution_count": 4,
   "id": "fe9d4a07-1292-49f9-9869-c254e87cc14e",
   "metadata": {},
   "outputs": [],
   "source": [
    "\"\"\"Esercizio 1\n",
    "Abbiamo una lista di liste: mat = [[0, 1, 2, 3, 4], [5, 6, 7, 8, 9], [10, 11, 12, 13, 14]] \n",
    "Che tipo di struttura dati o matematica potrebbe rappresentare? \n",
    "Notare che tutte le liste \"interne\" sono della stessa dimensione \n",
    "Come facciamo per accedere ad un elemento in particolare?\"\"\"\n",
    "\n",
    "mat = [[0, 1, 2, 3, 4], [5, 6, 7, 8, 9], [10, 11, 12, 13, 14]]"
   ]
  },
  {
   "cell_type": "code",
   "execution_count": 5,
   "id": "629d11fe-08b0-47b3-989f-0509d767265d",
   "metadata": {},
   "outputs": [],
   "source": [
    "mat_array = np.array(mat)"
   ]
  },
  {
   "cell_type": "code",
   "execution_count": 6,
   "id": "c921b4ec-10a6-46d9-9235-9eb6344111a2",
   "metadata": {},
   "outputs": [
    {
     "data": {
      "text/plain": [
       "array([[ 0,  1,  2,  3,  4],\n",
       "       [ 5,  6,  7,  8,  9],\n",
       "       [10, 11, 12, 13, 14]])"
      ]
     },
     "execution_count": 6,
     "metadata": {},
     "output_type": "execute_result"
    }
   ],
   "source": [
    "mat_array"
   ]
  },
  {
   "cell_type": "code",
   "execution_count": 7,
   "id": "dff98871-4387-4469-a30d-e3fd608e60f2",
   "metadata": {},
   "outputs": [
    {
     "data": {
      "text/plain": [
       "(3, 5)"
      ]
     },
     "execution_count": 7,
     "metadata": {},
     "output_type": "execute_result"
    }
   ],
   "source": [
    "mat_array.shape #otteniamo quante liste, con quanti elementi"
   ]
  },
  {
   "cell_type": "code",
   "execution_count": 13,
   "id": "3fa1c72d-e643-4442-80bf-09fc9b7fd380",
   "metadata": {},
   "outputs": [
    {
     "data": {
      "text/plain": [
       "array([0, 1, 2, 3, 4])"
      ]
     },
     "execution_count": 13,
     "metadata": {},
     "output_type": "execute_result"
    }
   ],
   "source": [
    "mat_array[0,:] #il primo numero rappresente la prima quadra è lo 0,\n",
    "               #la seconda 1, la terza 2. il secondo numero rappresenta l'elemento che vogliamo prendere"
   ]
  },
  {
   "cell_type": "code",
   "execution_count": 20,
   "id": "21eee618-71d1-44a8-a237-90aa6b4d7578",
   "metadata": {},
   "outputs": [
    {
     "name": "stdout",
     "output_type": "stream",
     "text": [
      "SIN di 90 0.8939966636005579 COSEN di 90 -0.4480736161291701\n"
     ]
    }
   ],
   "source": [
    "\"\"\"Esercizio 2\n",
    "Importiamo il modulo math e proviamo a usare le funzioni .sin() .cos() .factorial() \n",
    "e la variabile .pi la riconoscete?\"\"\"\n",
    "\n",
    "\n",
    "print(\"SIN di 90\",math.sin(90),\"COSEN di 90\",math.cos(90))"
   ]
  },
  {
   "cell_type": "code",
   "execution_count": 21,
   "id": "8ea477f4-574c-4006-8734-551d283984b4",
   "metadata": {},
   "outputs": [
    {
     "name": "stdout",
     "output_type": "stream",
     "text": [
      "SIN di 90 1.0 COSEN di 90 6.123233995736766e-17\n"
     ]
    }
   ],
   "source": [
    "print(\"SIN di 90\",math.sin(math.pi/2),\"COSEN di 90\",math.cos(math.pi/2))"
   ]
  },
  {
   "cell_type": "code",
   "execution_count": 23,
   "id": "a3051648-6abd-4796-b0a5-4fbce320b8d2",
   "metadata": {},
   "outputs": [
    {
     "data": {
      "text/plain": [
       "620448401733239439360000"
      ]
     },
     "execution_count": 23,
     "metadata": {},
     "output_type": "execute_result"
    }
   ],
   "source": [
    "math.factorial(24)"
   ]
  },
  {
   "cell_type": "code",
   "execution_count": 24,
   "id": "11b87b4b-0d8e-4de5-90d4-26c7b2474f1a",
   "metadata": {},
   "outputs": [
    {
     "name": "stdout",
     "output_type": "stream",
     "text": [
      "180.0\n"
     ]
    }
   ],
   "source": [
    "\"\"\"Esercizio 3\n",
    "Proviamo a eseguire math.degrees(math.pi) \n",
    "Qual è e cosa significa il risultato? \n",
    "Per saperne di più su questa funzione possiamo usare help(math.degrees)\"\"\"\n",
    "\n",
    "print(math.degrees(math.pi))\n",
    "\n",
    "#La funzione math.degrees() converte un angolo da radianti a gradi. Poiché math.pi rappresenta il valore di π in radianti, \n",
    "#math.degrees(math.pi) restituirà l'equivalente di 180 gradi, \n",
    "#poiché un semicerchio (π radianti) corrisponde a 180 gradi in un cerchio completo."
   ]
  },
  {
   "cell_type": "code",
   "execution_count": 25,
   "id": "697f90ac-e1d5-4d29-b23f-2e1e8541c5ff",
   "metadata": {},
   "outputs": [],
   "source": [
    "\"\"\"Esercizio 4 \n",
    "L'azienda Object SpA ha creato una lista di quanti oggetti ha venduto ogni mese nell'ultimo anno: \n",
    "lst = [2000, 5500, 7200, 4320, 1280, 1900, 2500, 3900, 6410, 8150, 7100, 5350] \n",
    "trasformiamola in un array NumPy (casting): lst = np.array(lst) e rispondiamo alle domande del CEO della Object SpA: \n",
    "• qual è stata la vendita massima mensile? E quella minima? \n",
    "• quali sono le vendite mensili maggiori di 4999 oggetti? E quante ne sono? \n",
    "• quali sono le vendite minori di 3000 oggetti?\n",
    "• in media quanti oggetti sono stati venduti?\"\"\"\n",
    "\n",
    "lst = [2000, 5500, 7200, 4320, 1280, 1900, 2500, 3900, 6410, 8150, 7100, 5350] "
   ]
  },
  {
   "cell_type": "code",
   "execution_count": 26,
   "id": "70ad93e2-8f23-486c-a26d-8f6ffac86abd",
   "metadata": {},
   "outputs": [],
   "source": [
    "lst = np.array(lst)"
   ]
  },
  {
   "cell_type": "code",
   "execution_count": 41,
   "id": "cfa4bf36-8253-4938-9a46-2c226ffb3543",
   "metadata": {},
   "outputs": [
    {
     "name": "stdout",
     "output_type": "stream",
     "text": [
      "Max 8150\n",
      "Min 1280\n",
      "Maggiori di 4999 [5500 7200 6410 8150 7100 5350]\n",
      "le vendite mensili maggiori di 4999 oggetti 6\n",
      "Minori di 3000 [2000 1280 1900 2500]\n",
      "Media al mese 4634.17\n"
     ]
    }
   ],
   "source": [
    "#qual è stata la vendita massima mensile? E quella minima?\n",
    "print(\"Max\",lst.max())\n",
    "print(\"Min\",lst.min())\n",
    "\n",
    "#quali sono le vendite mensili maggiori di 4999 oggetti? E quante ne sono?\n",
    "filter1 = lst[lst > 4999]\n",
    "print(\"Maggiori di 4999\", filter1)\n",
    "print(\"le vendite mensili maggiori di 4999 oggetti\",len(filter1))\n",
    "\n",
    "#quali sono le vendite minori di 3000 oggetti?\n",
    "filter2 = lst[lst < 3000]\n",
    "print(\"Minori di 3000\", filter2)\n",
    "\n",
    "#in media quanti oggetti sono stati venduti?\n",
    "print(\"Media al mese\",round(lst.mean(), 2)) #con round e \",2\" vuol dire che ho arrotondato a 2 cifre dopo la virgola"
   ]
  },
  {
   "cell_type": "code",
   "execution_count": 45,
   "id": "f35c50e2-fe2d-4f44-ac57-5e2cb16b84df",
   "metadata": {},
   "outputs": [
    {
     "name": "stdout",
     "output_type": "stream",
     "text": [
      "Tipo di valore del dizionario <class 'int'>\n",
      "Tipo di valore della serie <class 'numpy.int64'>\n",
      "Massimo della serie 25000\n"
     ]
    }
   ],
   "source": [
    "\"\"\"Esercizio 5\n",
    "Consideriamo il seguente dizionario: \n",
    "fatturati_dict = {1997: 12_000, 1998: 15_000, 1999: 20_000, 2000: 23_000, 2001: 25_000, 2002: 17_000, 2003: 14_000, 2004: 21_000} \n",
    "Consideriamo ora la seguente Series: \n",
    "fatturati_series = pd.Series([12_000, 15_000, 20_000, 23_000, 25_000, 17_000, 14_000, 21_000],\n",
    "index=range(1997, 2005))\n",
    "Possiamo accedere alle stesse informazioni nello stesso modo: fatturati_dict[1997] fatturati_series[1997]\n",
    "Dunque qual è la differenza tra i due tipi di dato? \n",
    "Cosa potremmo fare con la Series che non possiamo fare con il dizionario?\"\"\"\n",
    "\n",
    "#Dizionario\n",
    "fatturati_dict = {1997: 12_000, 1998: 15_000, 1999: 20_000, 2000: 23_000, 2001: 25_000, 2002: 17_000, 2003: 14_000, 2004: 21_000}\n",
    "\n",
    "#Serie Pandas\n",
    "fatturati_series = pd.Series([12_000, 15_000, 20_000, 23_000, 25_000, 17_000, 14_000, 21_000],\n",
    "index=range(1997, 2005))\n",
    "\n",
    "print(\"Tipo di valore del dizionario\", type(fatturati_dict[1997]))\n",
    "print(\"Tipo di valore della serie\", type(fatturati_series[1997]))\n",
    "\n",
    "#Cosa potremmo fare con la Series che non possiamo fare con il dizionario?\n",
    "print(\"Massimo della serie\", max(fatturati_series))\n"
   ]
  },
  {
   "cell_type": "code",
   "execution_count": 53,
   "id": "d9efd6a3-8a5e-46d3-8acf-6ba2e47b802c",
   "metadata": {},
   "outputs": [
    {
     "name": "stdout",
     "output_type": "stream",
     "text": [
      "[ 100  200  300  400  500  600  700  800  900 1000]\n",
      "Lista stipendi raddoppiati CICLO FOR: [200, 400, 600, 800, 1000, 1200, 1400, 1600, 1800, 2000]\n",
      "Lista stipendi raddoppiati MASKING: [ 200  400  600  800 1000 1200 1400 1600 1800 2000]\n"
     ]
    }
   ],
   "source": [
    "\"\"\"Esercizio 6\n",
    "L'azienda Object SpA ha un dataset con tutti gli stipendi dei dipendenti, \n",
    "memorizzato in un ndarray: \n",
    "import numpy as np \n",
    "stipendi = np.array( [100, 200, 300, 400, 500,  600, 700, 800, 900, 1000] ) \n",
    "L'azienda ci chiede di raddoppiare tutti gli stipendi; facciamolo in due modi:\n",
    "• con un ciclo for \n",
    "• con il masking\"\"\"\n",
    "\n",
    "stipendi = np.array( [100, 200, 300, 400, 500,  600, 700, 800, 900, 1000] ) \n",
    "print(stipendi)\n",
    "\n",
    "#ciclo for\n",
    "lista_stipendi = []\n",
    "lista_stipendi_raddoppiati = []\n",
    "\n",
    "for stipendio in stipendi:\n",
    "    lista_stipendi_raddoppiati.append(stipendio*2)\n",
    "\n",
    "#LIST COMPREHENSION\n",
    "#lista_stipendi_raddoppiati2= [x*2 for x in stipendi]        possiamo scrivere x o anche stipendio, poichè rappresenta il singolo elemento\n",
    "#print(lista_stipendi_raddoppiati2)\n",
    "\n",
    "print(\"Lista stipendi raddoppiati CICLO FOR:\", lista_stipendi_raddoppiati)\n",
    "\n",
    "\n",
    "#masking\n",
    "lista_stipendi_raddoppiati_numpy = stipendi*2\n",
    "print(\"Lista stipendi raddoppiati MASKING:\", lista_stipendi_raddoppiati_numpy)"
   ]
  },
  {
   "cell_type": "code",
   "execution_count": null,
   "id": "2420e94e-4eb8-40c2-ba4c-063498338d7a",
   "metadata": {},
   "outputs": [],
   "source": []
  }
 ],
 "metadata": {
  "kernelspec": {
   "display_name": "Python 3 (ipykernel)",
   "language": "python",
   "name": "python3"
  },
  "language_info": {
   "codemirror_mode": {
    "name": "ipython",
    "version": 3
   },
   "file_extension": ".py",
   "mimetype": "text/x-python",
   "name": "python",
   "nbconvert_exporter": "python",
   "pygments_lexer": "ipython3",
   "version": "3.11.7"
  }
 },
 "nbformat": 4,
 "nbformat_minor": 5
}

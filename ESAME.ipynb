{
 "cells": [
  {
   "cell_type": "markdown",
   "id": "64923802-aa7b-468d-9da8-67e26e14c209",
   "metadata": {},
   "source": [
    "utilizzare il dataset, curato da Our World in Data, all'indirizzo https://github.com/owid/covid-19-data/tree/master/public/data; alla voce \"🗂 Download our complete COVID-19 dataset\" scaricare il dataset nel formato che si preferisce."
   ]
  },
  {
   "cell_type": "markdown",
   "id": "98d44b6c-e23e-4d50-b997-b96f27471434",
   "metadata": {},
   "source": []
  },
  {
   "cell_type": "markdown",
   "id": "0ac3044b-44df-4afc-9be3-ad9b767a8d12",
   "metadata": {},
   "source": [
    "\n",
    "•Si richiede di verificare le dimensioni del dataset e le diciture presenti nell'intestazione; \n",
    "\n",
    "•Si chiede poi per ogni continente di trovare il numero di casi totali avvenuti in quello stesso continente; si chiede di non considerare eventuali locazioni che nel dataset non appartengono ad alcun continente; \n",
    "\n",
    "•Sempre riguardo i casi di COVID totali, si chiede di sviluppare una funzione che prenda in input il dataset e due nomi di continenti, e che ne confronti i seguenti relativi descrittori statistici: valori minimo e massimo, media, e percentuale rispetto al numero dei casi totali nel mondo (calcolati anche sulle locazioni senza indicazione di continente); \n",
    "\n",
    "---VECCHIE RICHIESTE\n",
    "•Si chiede poi di effettuare lo stesso tipo di analisi – anche in questo caso sviluppando una funzione ad hoc – per il numero di vaccinazioni totali per ogni continente; \n",
    "\n",
    "•Alla fine, basandosi sui calcoli fatti, il committente chiede di stilare un breve (tre o quattro righe) paragrafo testuale riassuntivo sulle statistiche di casi e vaccinazioni, che si concentri solo sulle differenze esistenti tra Europa, Sud America e Oceania.\n",
    "\n",
    "\n",
    "---NUOVE RICHIESTE\n",
    "\n",
    "•Selezionare i dati relativi all'Italia nel 2022, e mostrare con un grafico adeguato l'evoluzione del casi totali rispetto alla data. Mostrare poi con un grafico adeguato il numero di nuovi casi rispetto alla data (filtrare i dati se necessario). Mostrare infine un grafico che mostra l'andamento della somma cumulativa nuovi casi del 2022, e commentare se ci sono similarità con l'andamento del numero dei casi totali;\n",
    "\n",
    "•Riguardo le nazioni di Italia, Germania e Francia, mostrare in un boxplot la differenza tra queste nazioni riguardo il numero di pazienti in terapia intensiva (Intensive Care Unit, ICU) da maggio 2022 (incluso) ad aprile 2023 (incluso), e scrivere un breve commento a riguardo;\n",
    "\n",
    "•Riguardo le nazioni di Italia, Germania, Francia e Spagna nel 2023, mostrare la somma dei pazienti ospitalizzati per ognuna — se ci sono dati nulli, suggerire se può essere possibile gestirli tramite sostituzione o meno.\n"
   ]
  },
  {
   "cell_type": "code",
   "execution_count": 1,
   "id": "f1823280-2060-4d24-8e4b-ac8ccf5fe7e4",
   "metadata": {},
   "outputs": [],
   "source": [
    "import dotenv\n",
    "import os\n",
    "from sqlalchemy import create_engine\n",
    "import pandas as pd\n",
    "import numpy as np"
   ]
  },
  {
   "cell_type": "code",
   "execution_count": 2,
   "id": "1a83e880-845b-40e9-94d1-b30b7693ab10",
   "metadata": {
    "scrolled": true
   },
   "outputs": [
    {
     "data": {
      "text/html": [
       "<div>\n",
       "<style scoped>\n",
       "    .dataframe tbody tr th:only-of-type {\n",
       "        vertical-align: middle;\n",
       "    }\n",
       "\n",
       "    .dataframe tbody tr th {\n",
       "        vertical-align: top;\n",
       "    }\n",
       "\n",
       "    .dataframe thead th {\n",
       "        text-align: right;\n",
       "    }\n",
       "</style>\n",
       "<table border=\"1\" class=\"dataframe\">\n",
       "  <thead>\n",
       "    <tr style=\"text-align: right;\">\n",
       "      <th></th>\n",
       "      <th>iso_code</th>\n",
       "      <th>continent</th>\n",
       "      <th>location</th>\n",
       "      <th>date</th>\n",
       "      <th>total_cases</th>\n",
       "      <th>new_cases</th>\n",
       "      <th>new_cases_smoothed</th>\n",
       "      <th>total_deaths</th>\n",
       "      <th>new_deaths</th>\n",
       "      <th>new_deaths_smoothed</th>\n",
       "      <th>...</th>\n",
       "      <th>male_smokers</th>\n",
       "      <th>handwashing_facilities</th>\n",
       "      <th>hospital_beds_per_thousand</th>\n",
       "      <th>life_expectancy</th>\n",
       "      <th>human_development_index</th>\n",
       "      <th>population</th>\n",
       "      <th>excess_mortality_cumulative_absolute</th>\n",
       "      <th>excess_mortality_cumulative</th>\n",
       "      <th>excess_mortality</th>\n",
       "      <th>excess_mortality_cumulative_per_million</th>\n",
       "    </tr>\n",
       "  </thead>\n",
       "  <tbody>\n",
       "    <tr>\n",
       "      <th>0</th>\n",
       "      <td>AFG</td>\n",
       "      <td>Asia</td>\n",
       "      <td>Afghanistan</td>\n",
       "      <td>2020-01-05</td>\n",
       "      <td>NaN</td>\n",
       "      <td>0.0</td>\n",
       "      <td>NaN</td>\n",
       "      <td>NaN</td>\n",
       "      <td>0.0</td>\n",
       "      <td>NaN</td>\n",
       "      <td>...</td>\n",
       "      <td>NaN</td>\n",
       "      <td>37.746</td>\n",
       "      <td>0.5</td>\n",
       "      <td>64.83</td>\n",
       "      <td>0.511</td>\n",
       "      <td>41128772.0</td>\n",
       "      <td>NaN</td>\n",
       "      <td>NaN</td>\n",
       "      <td>NaN</td>\n",
       "      <td>NaN</td>\n",
       "    </tr>\n",
       "    <tr>\n",
       "      <th>1</th>\n",
       "      <td>AFG</td>\n",
       "      <td>Asia</td>\n",
       "      <td>Afghanistan</td>\n",
       "      <td>2020-01-06</td>\n",
       "      <td>NaN</td>\n",
       "      <td>0.0</td>\n",
       "      <td>NaN</td>\n",
       "      <td>NaN</td>\n",
       "      <td>0.0</td>\n",
       "      <td>NaN</td>\n",
       "      <td>...</td>\n",
       "      <td>NaN</td>\n",
       "      <td>37.746</td>\n",
       "      <td>0.5</td>\n",
       "      <td>64.83</td>\n",
       "      <td>0.511</td>\n",
       "      <td>41128772.0</td>\n",
       "      <td>NaN</td>\n",
       "      <td>NaN</td>\n",
       "      <td>NaN</td>\n",
       "      <td>NaN</td>\n",
       "    </tr>\n",
       "    <tr>\n",
       "      <th>2</th>\n",
       "      <td>AFG</td>\n",
       "      <td>Asia</td>\n",
       "      <td>Afghanistan</td>\n",
       "      <td>2020-01-07</td>\n",
       "      <td>NaN</td>\n",
       "      <td>0.0</td>\n",
       "      <td>NaN</td>\n",
       "      <td>NaN</td>\n",
       "      <td>0.0</td>\n",
       "      <td>NaN</td>\n",
       "      <td>...</td>\n",
       "      <td>NaN</td>\n",
       "      <td>37.746</td>\n",
       "      <td>0.5</td>\n",
       "      <td>64.83</td>\n",
       "      <td>0.511</td>\n",
       "      <td>41128772.0</td>\n",
       "      <td>NaN</td>\n",
       "      <td>NaN</td>\n",
       "      <td>NaN</td>\n",
       "      <td>NaN</td>\n",
       "    </tr>\n",
       "    <tr>\n",
       "      <th>3</th>\n",
       "      <td>AFG</td>\n",
       "      <td>Asia</td>\n",
       "      <td>Afghanistan</td>\n",
       "      <td>2020-01-08</td>\n",
       "      <td>NaN</td>\n",
       "      <td>0.0</td>\n",
       "      <td>NaN</td>\n",
       "      <td>NaN</td>\n",
       "      <td>0.0</td>\n",
       "      <td>NaN</td>\n",
       "      <td>...</td>\n",
       "      <td>NaN</td>\n",
       "      <td>37.746</td>\n",
       "      <td>0.5</td>\n",
       "      <td>64.83</td>\n",
       "      <td>0.511</td>\n",
       "      <td>41128772.0</td>\n",
       "      <td>NaN</td>\n",
       "      <td>NaN</td>\n",
       "      <td>NaN</td>\n",
       "      <td>NaN</td>\n",
       "    </tr>\n",
       "    <tr>\n",
       "      <th>4</th>\n",
       "      <td>AFG</td>\n",
       "      <td>Asia</td>\n",
       "      <td>Afghanistan</td>\n",
       "      <td>2020-01-09</td>\n",
       "      <td>NaN</td>\n",
       "      <td>0.0</td>\n",
       "      <td>NaN</td>\n",
       "      <td>NaN</td>\n",
       "      <td>0.0</td>\n",
       "      <td>NaN</td>\n",
       "      <td>...</td>\n",
       "      <td>NaN</td>\n",
       "      <td>37.746</td>\n",
       "      <td>0.5</td>\n",
       "      <td>64.83</td>\n",
       "      <td>0.511</td>\n",
       "      <td>41128772.0</td>\n",
       "      <td>NaN</td>\n",
       "      <td>NaN</td>\n",
       "      <td>NaN</td>\n",
       "      <td>NaN</td>\n",
       "    </tr>\n",
       "    <tr>\n",
       "      <th>...</th>\n",
       "      <td>...</td>\n",
       "      <td>...</td>\n",
       "      <td>...</td>\n",
       "      <td>...</td>\n",
       "      <td>...</td>\n",
       "      <td>...</td>\n",
       "      <td>...</td>\n",
       "      <td>...</td>\n",
       "      <td>...</td>\n",
       "      <td>...</td>\n",
       "      <td>...</td>\n",
       "      <td>...</td>\n",
       "      <td>...</td>\n",
       "      <td>...</td>\n",
       "      <td>...</td>\n",
       "      <td>...</td>\n",
       "      <td>...</td>\n",
       "      <td>...</td>\n",
       "      <td>...</td>\n",
       "      <td>...</td>\n",
       "      <td>...</td>\n",
       "    </tr>\n",
       "    <tr>\n",
       "      <th>387218</th>\n",
       "      <td>ZWE</td>\n",
       "      <td>Africa</td>\n",
       "      <td>Zimbabwe</td>\n",
       "      <td>2024-03-13</td>\n",
       "      <td>266359.0</td>\n",
       "      <td>0.0</td>\n",
       "      <td>0.143</td>\n",
       "      <td>5740.0</td>\n",
       "      <td>0.0</td>\n",
       "      <td>0.0</td>\n",
       "      <td>...</td>\n",
       "      <td>30.7</td>\n",
       "      <td>36.791</td>\n",
       "      <td>1.7</td>\n",
       "      <td>61.49</td>\n",
       "      <td>0.571</td>\n",
       "      <td>16320539.0</td>\n",
       "      <td>NaN</td>\n",
       "      <td>NaN</td>\n",
       "      <td>NaN</td>\n",
       "      <td>NaN</td>\n",
       "    </tr>\n",
       "    <tr>\n",
       "      <th>387219</th>\n",
       "      <td>ZWE</td>\n",
       "      <td>Africa</td>\n",
       "      <td>Zimbabwe</td>\n",
       "      <td>2024-03-14</td>\n",
       "      <td>266359.0</td>\n",
       "      <td>0.0</td>\n",
       "      <td>0.143</td>\n",
       "      <td>5740.0</td>\n",
       "      <td>0.0</td>\n",
       "      <td>0.0</td>\n",
       "      <td>...</td>\n",
       "      <td>30.7</td>\n",
       "      <td>36.791</td>\n",
       "      <td>1.7</td>\n",
       "      <td>61.49</td>\n",
       "      <td>0.571</td>\n",
       "      <td>16320539.0</td>\n",
       "      <td>NaN</td>\n",
       "      <td>NaN</td>\n",
       "      <td>NaN</td>\n",
       "      <td>NaN</td>\n",
       "    </tr>\n",
       "    <tr>\n",
       "      <th>387220</th>\n",
       "      <td>ZWE</td>\n",
       "      <td>Africa</td>\n",
       "      <td>Zimbabwe</td>\n",
       "      <td>2024-03-15</td>\n",
       "      <td>266359.0</td>\n",
       "      <td>0.0</td>\n",
       "      <td>0.143</td>\n",
       "      <td>5740.0</td>\n",
       "      <td>0.0</td>\n",
       "      <td>0.0</td>\n",
       "      <td>...</td>\n",
       "      <td>30.7</td>\n",
       "      <td>36.791</td>\n",
       "      <td>1.7</td>\n",
       "      <td>61.49</td>\n",
       "      <td>0.571</td>\n",
       "      <td>16320539.0</td>\n",
       "      <td>NaN</td>\n",
       "      <td>NaN</td>\n",
       "      <td>NaN</td>\n",
       "      <td>NaN</td>\n",
       "    </tr>\n",
       "    <tr>\n",
       "      <th>387221</th>\n",
       "      <td>ZWE</td>\n",
       "      <td>Africa</td>\n",
       "      <td>Zimbabwe</td>\n",
       "      <td>2024-03-16</td>\n",
       "      <td>266359.0</td>\n",
       "      <td>0.0</td>\n",
       "      <td>0.143</td>\n",
       "      <td>5740.0</td>\n",
       "      <td>0.0</td>\n",
       "      <td>0.0</td>\n",
       "      <td>...</td>\n",
       "      <td>30.7</td>\n",
       "      <td>36.791</td>\n",
       "      <td>1.7</td>\n",
       "      <td>61.49</td>\n",
       "      <td>0.571</td>\n",
       "      <td>16320539.0</td>\n",
       "      <td>NaN</td>\n",
       "      <td>NaN</td>\n",
       "      <td>NaN</td>\n",
       "      <td>NaN</td>\n",
       "    </tr>\n",
       "    <tr>\n",
       "      <th>387222</th>\n",
       "      <td>ZWE</td>\n",
       "      <td>Africa</td>\n",
       "      <td>Zimbabwe</td>\n",
       "      <td>2024-03-17</td>\n",
       "      <td>266359.0</td>\n",
       "      <td>0.0</td>\n",
       "      <td>0.000</td>\n",
       "      <td>5740.0</td>\n",
       "      <td>0.0</td>\n",
       "      <td>0.0</td>\n",
       "      <td>...</td>\n",
       "      <td>30.7</td>\n",
       "      <td>36.791</td>\n",
       "      <td>1.7</td>\n",
       "      <td>61.49</td>\n",
       "      <td>0.571</td>\n",
       "      <td>16320539.0</td>\n",
       "      <td>NaN</td>\n",
       "      <td>NaN</td>\n",
       "      <td>NaN</td>\n",
       "      <td>NaN</td>\n",
       "    </tr>\n",
       "  </tbody>\n",
       "</table>\n",
       "<p>387223 rows × 67 columns</p>\n",
       "</div>"
      ],
      "text/plain": [
       "       iso_code continent     location        date  total_cases  new_cases  \\\n",
       "0           AFG      Asia  Afghanistan  2020-01-05          NaN        0.0   \n",
       "1           AFG      Asia  Afghanistan  2020-01-06          NaN        0.0   \n",
       "2           AFG      Asia  Afghanistan  2020-01-07          NaN        0.0   \n",
       "3           AFG      Asia  Afghanistan  2020-01-08          NaN        0.0   \n",
       "4           AFG      Asia  Afghanistan  2020-01-09          NaN        0.0   \n",
       "...         ...       ...          ...         ...          ...        ...   \n",
       "387218      ZWE    Africa     Zimbabwe  2024-03-13     266359.0        0.0   \n",
       "387219      ZWE    Africa     Zimbabwe  2024-03-14     266359.0        0.0   \n",
       "387220      ZWE    Africa     Zimbabwe  2024-03-15     266359.0        0.0   \n",
       "387221      ZWE    Africa     Zimbabwe  2024-03-16     266359.0        0.0   \n",
       "387222      ZWE    Africa     Zimbabwe  2024-03-17     266359.0        0.0   \n",
       "\n",
       "        new_cases_smoothed  total_deaths  new_deaths  new_deaths_smoothed  \\\n",
       "0                      NaN           NaN         0.0                  NaN   \n",
       "1                      NaN           NaN         0.0                  NaN   \n",
       "2                      NaN           NaN         0.0                  NaN   \n",
       "3                      NaN           NaN         0.0                  NaN   \n",
       "4                      NaN           NaN         0.0                  NaN   \n",
       "...                    ...           ...         ...                  ...   \n",
       "387218               0.143        5740.0         0.0                  0.0   \n",
       "387219               0.143        5740.0         0.0                  0.0   \n",
       "387220               0.143        5740.0         0.0                  0.0   \n",
       "387221               0.143        5740.0         0.0                  0.0   \n",
       "387222               0.000        5740.0         0.0                  0.0   \n",
       "\n",
       "        ...  male_smokers  handwashing_facilities  hospital_beds_per_thousand  \\\n",
       "0       ...           NaN                  37.746                         0.5   \n",
       "1       ...           NaN                  37.746                         0.5   \n",
       "2       ...           NaN                  37.746                         0.5   \n",
       "3       ...           NaN                  37.746                         0.5   \n",
       "4       ...           NaN                  37.746                         0.5   \n",
       "...     ...           ...                     ...                         ...   \n",
       "387218  ...          30.7                  36.791                         1.7   \n",
       "387219  ...          30.7                  36.791                         1.7   \n",
       "387220  ...          30.7                  36.791                         1.7   \n",
       "387221  ...          30.7                  36.791                         1.7   \n",
       "387222  ...          30.7                  36.791                         1.7   \n",
       "\n",
       "        life_expectancy  human_development_index  population  \\\n",
       "0                 64.83                    0.511  41128772.0   \n",
       "1                 64.83                    0.511  41128772.0   \n",
       "2                 64.83                    0.511  41128772.0   \n",
       "3                 64.83                    0.511  41128772.0   \n",
       "4                 64.83                    0.511  41128772.0   \n",
       "...                 ...                      ...         ...   \n",
       "387218            61.49                    0.571  16320539.0   \n",
       "387219            61.49                    0.571  16320539.0   \n",
       "387220            61.49                    0.571  16320539.0   \n",
       "387221            61.49                    0.571  16320539.0   \n",
       "387222            61.49                    0.571  16320539.0   \n",
       "\n",
       "        excess_mortality_cumulative_absolute  excess_mortality_cumulative  \\\n",
       "0                                        NaN                          NaN   \n",
       "1                                        NaN                          NaN   \n",
       "2                                        NaN                          NaN   \n",
       "3                                        NaN                          NaN   \n",
       "4                                        NaN                          NaN   \n",
       "...                                      ...                          ...   \n",
       "387218                                   NaN                          NaN   \n",
       "387219                                   NaN                          NaN   \n",
       "387220                                   NaN                          NaN   \n",
       "387221                                   NaN                          NaN   \n",
       "387222                                   NaN                          NaN   \n",
       "\n",
       "        excess_mortality  excess_mortality_cumulative_per_million  \n",
       "0                    NaN                                      NaN  \n",
       "1                    NaN                                      NaN  \n",
       "2                    NaN                                      NaN  \n",
       "3                    NaN                                      NaN  \n",
       "4                    NaN                                      NaN  \n",
       "...                  ...                                      ...  \n",
       "387218               NaN                                      NaN  \n",
       "387219               NaN                                      NaN  \n",
       "387220               NaN                                      NaN  \n",
       "387221               NaN                                      NaN  \n",
       "387222               NaN                                      NaN  \n",
       "\n",
       "[387223 rows x 67 columns]"
      ]
     },
     "execution_count": 2,
     "metadata": {},
     "output_type": "execute_result"
    }
   ],
   "source": [
    "covid = pd.read_csv('owid-covid-data.csv')\n",
    "covid"
   ]
  },
  {
   "cell_type": "code",
   "execution_count": 3,
   "id": "73f98701-e1f8-4888-8f5a-92b59acb1e5a",
   "metadata": {},
   "outputs": [
    {
     "data": {
      "text/plain": [
       "(387223, 67)"
      ]
     },
     "execution_count": 3,
     "metadata": {},
     "output_type": "execute_result"
    }
   ],
   "source": [
    "covid.shape"
   ]
  },
  {
   "cell_type": "code",
   "execution_count": 4,
   "id": "d7f30d9f-107d-4a2d-905b-1b398a71fb05",
   "metadata": {
    "scrolled": true
   },
   "outputs": [
    {
     "name": "stdout",
     "output_type": "stream",
     "text": [
      "<class 'pandas.core.frame.DataFrame'>\n",
      "RangeIndex: 387223 entries, 0 to 387222\n",
      "Data columns (total 67 columns):\n",
      " #   Column                                      Non-Null Count   Dtype  \n",
      "---  ------                                      --------------   -----  \n",
      " 0   iso_code                                    387223 non-null  object \n",
      " 1   continent                                   368708 non-null  object \n",
      " 2   location                                    387223 non-null  object \n",
      " 3   date                                        387223 non-null  object \n",
      " 4   total_cases                                 348333 non-null  float64\n",
      " 5   new_cases                                   376280 non-null  float64\n",
      " 6   new_cases_smoothed                          375050 non-null  float64\n",
      " 7   total_deaths                                326109 non-null  float64\n",
      " 8   new_deaths                                  376589 non-null  float64\n",
      " 9   new_deaths_smoothed                         375359 non-null  float64\n",
      " 10  total_cases_per_million                     348333 non-null  float64\n",
      " 11  new_cases_per_million                       376280 non-null  float64\n",
      " 12  new_cases_smoothed_per_million              375050 non-null  float64\n",
      " 13  total_deaths_per_million                    326109 non-null  float64\n",
      " 14  new_deaths_per_million                      376589 non-null  float64\n",
      " 15  new_deaths_smoothed_per_million             375359 non-null  float64\n",
      " 16  reproduction_rate                           184817 non-null  float64\n",
      " 17  icu_patients                                38641 non-null   float64\n",
      " 18  icu_patients_per_million                    38641 non-null   float64\n",
      " 19  hosp_patients                               40173 non-null   float64\n",
      " 20  hosp_patients_per_million                   40173 non-null   float64\n",
      " 21  weekly_icu_admissions                       10689 non-null   float64\n",
      " 22  weekly_icu_admissions_per_million           10689 non-null   float64\n",
      " 23  weekly_hosp_admissions                      24159 non-null   float64\n",
      " 24  weekly_hosp_admissions_per_million          24159 non-null   float64\n",
      " 25  total_tests                                 79387 non-null   float64\n",
      " 26  new_tests                                   75403 non-null   float64\n",
      " 27  total_tests_per_thousand                    79387 non-null   float64\n",
      " 28  new_tests_per_thousand                      75403 non-null   float64\n",
      " 29  new_tests_smoothed                          103965 non-null  float64\n",
      " 30  new_tests_smoothed_per_thousand             103965 non-null  float64\n",
      " 31  positive_rate                               95927 non-null   float64\n",
      " 32  tests_per_case                              94348 non-null   float64\n",
      " 33  tests_units                                 106788 non-null  object \n",
      " 34  total_vaccinations                          83299 non-null   float64\n",
      " 35  people_vaccinated                           79180 non-null   float64\n",
      " 36  people_fully_vaccinated                     76061 non-null   float64\n",
      " 37  total_boosters                              51487 non-null   float64\n",
      " 38  new_vaccinations                            69049 non-null   float64\n",
      " 39  new_vaccinations_smoothed                   190016 non-null  float64\n",
      " 40  total_vaccinations_per_hundred              83299 non-null   float64\n",
      " 41  people_vaccinated_per_hundred               79180 non-null   float64\n",
      " 42  people_fully_vaccinated_per_hundred         76061 non-null   float64\n",
      " 43  total_boosters_per_hundred                  51487 non-null   float64\n",
      " 44  new_vaccinations_smoothed_per_million       190016 non-null  float64\n",
      " 45  new_people_vaccinated_smoothed              187388 non-null  float64\n",
      " 46  new_people_vaccinated_smoothed_per_hundred  187388 non-null  float64\n",
      " 47  stringency_index                            197292 non-null  float64\n",
      " 48  population_density                          329234 non-null  float64\n",
      " 49  median_age                                  306039 non-null  float64\n",
      " 50  aged_65_older                               295486 non-null  float64\n",
      " 51  aged_70_older                               302971 non-null  float64\n",
      " 52  gdp_per_capita                              300083 non-null  float64\n",
      " 53  extreme_poverty                             193433 non-null  float64\n",
      " 54  cardiovasc_death_rate                       300662 non-null  float64\n",
      " 55  diabetes_prevalence                         316167 non-null  float64\n",
      " 56  female_smokers                              225682 non-null  float64\n",
      " 57  male_smokers                                222614 non-null  float64\n",
      " 58  handwashing_facilities                      147316 non-null  float64\n",
      " 59  hospital_beds_per_thousand                  265566 non-null  float64\n",
      " 60  life_expectancy                             356661 non-null  float64\n",
      " 61  human_development_index                     291623 non-null  float64\n",
      " 62  population                                  387223 non-null  float64\n",
      " 63  excess_mortality_cumulative_absolute        13172 non-null   float64\n",
      " 64  excess_mortality_cumulative                 13172 non-null   float64\n",
      " 65  excess_mortality                            13172 non-null   float64\n",
      " 66  excess_mortality_cumulative_per_million     13172 non-null   float64\n",
      "dtypes: float64(62), object(5)\n",
      "memory usage: 197.9+ MB\n"
     ]
    }
   ],
   "source": [
    "covid.info()"
   ]
  },
  {
   "cell_type": "code",
   "execution_count": 6,
   "id": "1dcef38c-55ea-4006-8844-1145820d653f",
   "metadata": {
    "scrolled": true
   },
   "outputs": [
    {
     "data": {
      "text/html": [
       "<div>\n",
       "<style scoped>\n",
       "    .dataframe tbody tr th:only-of-type {\n",
       "        vertical-align: middle;\n",
       "    }\n",
       "\n",
       "    .dataframe tbody tr th {\n",
       "        vertical-align: top;\n",
       "    }\n",
       "\n",
       "    .dataframe thead th {\n",
       "        text-align: right;\n",
       "    }\n",
       "</style>\n",
       "<table border=\"1\" class=\"dataframe\">\n",
       "  <thead>\n",
       "    <tr style=\"text-align: right;\">\n",
       "      <th></th>\n",
       "      <th>total_cases</th>\n",
       "      <th>new_cases</th>\n",
       "      <th>new_cases_smoothed</th>\n",
       "      <th>total_deaths</th>\n",
       "      <th>new_deaths</th>\n",
       "      <th>new_deaths_smoothed</th>\n",
       "      <th>total_cases_per_million</th>\n",
       "      <th>new_cases_per_million</th>\n",
       "      <th>new_cases_smoothed_per_million</th>\n",
       "      <th>total_deaths_per_million</th>\n",
       "      <th>...</th>\n",
       "      <th>male_smokers</th>\n",
       "      <th>handwashing_facilities</th>\n",
       "      <th>hospital_beds_per_thousand</th>\n",
       "      <th>life_expectancy</th>\n",
       "      <th>human_development_index</th>\n",
       "      <th>population</th>\n",
       "      <th>excess_mortality_cumulative_absolute</th>\n",
       "      <th>excess_mortality_cumulative</th>\n",
       "      <th>excess_mortality</th>\n",
       "      <th>excess_mortality_cumulative_per_million</th>\n",
       "    </tr>\n",
       "  </thead>\n",
       "  <tbody>\n",
       "    <tr>\n",
       "      <th>count</th>\n",
       "      <td>3.483330e+05</td>\n",
       "      <td>3.762800e+05</td>\n",
       "      <td>3.750500e+05</td>\n",
       "      <td>3.261090e+05</td>\n",
       "      <td>376589.000000</td>\n",
       "      <td>375359.000000</td>\n",
       "      <td>348333.000000</td>\n",
       "      <td>376280.000000</td>\n",
       "      <td>375050.000000</td>\n",
       "      <td>326109.000000</td>\n",
       "      <td>...</td>\n",
       "      <td>222614.000000</td>\n",
       "      <td>147316.000000</td>\n",
       "      <td>265566.000000</td>\n",
       "      <td>356661.000000</td>\n",
       "      <td>291623.000000</td>\n",
       "      <td>3.872230e+05</td>\n",
       "      <td>1.317200e+04</td>\n",
       "      <td>13172.000000</td>\n",
       "      <td>13172.000000</td>\n",
       "      <td>13172.000000</td>\n",
       "    </tr>\n",
       "    <tr>\n",
       "      <th>mean</th>\n",
       "      <td>7.386532e+06</td>\n",
       "      <td>8.728781e+03</td>\n",
       "      <td>8.756916e+03</td>\n",
       "      <td>8.996469e+04</td>\n",
       "      <td>78.157939</td>\n",
       "      <td>78.405166</td>\n",
       "      <td>112347.967657</td>\n",
       "      <td>132.572340</td>\n",
       "      <td>133.002194</td>\n",
       "      <td>918.307054</td>\n",
       "      <td>...</td>\n",
       "      <td>32.910930</td>\n",
       "      <td>50.791490</td>\n",
       "      <td>3.097389</td>\n",
       "      <td>73.711568</td>\n",
       "      <td>0.722553</td>\n",
       "      <td>1.291081e+08</td>\n",
       "      <td>5.571563e+04</td>\n",
       "      <td>9.763578</td>\n",
       "      <td>10.992424</td>\n",
       "      <td>1772.580448</td>\n",
       "    </tr>\n",
       "    <tr>\n",
       "      <th>std</th>\n",
       "      <td>4.398509e+07</td>\n",
       "      <td>2.397048e+05</td>\n",
       "      <td>9.038526e+04</td>\n",
       "      <td>4.566992e+05</td>\n",
       "      <td>1424.517554</td>\n",
       "      <td>534.387547</td>\n",
       "      <td>160036.519608</td>\n",
       "      <td>1544.311765</td>\n",
       "      <td>571.529927</td>\n",
       "      <td>1131.569486</td>\n",
       "      <td>...</td>\n",
       "      <td>13.572787</td>\n",
       "      <td>31.953565</td>\n",
       "      <td>2.548272</td>\n",
       "      <td>7.395040</td>\n",
       "      <td>0.148998</td>\n",
       "      <td>6.628902e+08</td>\n",
       "      <td>1.556166e+05</td>\n",
       "      <td>12.025551</td>\n",
       "      <td>24.595139</td>\n",
       "      <td>1987.607815</td>\n",
       "    </tr>\n",
       "    <tr>\n",
       "      <th>min</th>\n",
       "      <td>1.000000e+00</td>\n",
       "      <td>0.000000e+00</td>\n",
       "      <td>0.000000e+00</td>\n",
       "      <td>1.000000e+00</td>\n",
       "      <td>0.000000</td>\n",
       "      <td>0.000000</td>\n",
       "      <td>0.000000</td>\n",
       "      <td>0.000000</td>\n",
       "      <td>0.000000</td>\n",
       "      <td>0.000000</td>\n",
       "      <td>...</td>\n",
       "      <td>7.700000</td>\n",
       "      <td>1.188000</td>\n",
       "      <td>0.100000</td>\n",
       "      <td>53.280000</td>\n",
       "      <td>0.394000</td>\n",
       "      <td>4.700000e+01</td>\n",
       "      <td>-3.772610e+04</td>\n",
       "      <td>-44.230000</td>\n",
       "      <td>-95.920000</td>\n",
       "      <td>-2936.453100</td>\n",
       "    </tr>\n",
       "    <tr>\n",
       "      <th>25%</th>\n",
       "      <td>9.448000e+03</td>\n",
       "      <td>0.000000e+00</td>\n",
       "      <td>0.000000e+00</td>\n",
       "      <td>1.360000e+02</td>\n",
       "      <td>0.000000</td>\n",
       "      <td>0.000000</td>\n",
       "      <td>2954.509000</td>\n",
       "      <td>0.000000</td>\n",
       "      <td>0.000000</td>\n",
       "      <td>65.307000</td>\n",
       "      <td>...</td>\n",
       "      <td>22.600000</td>\n",
       "      <td>20.859000</td>\n",
       "      <td>1.300000</td>\n",
       "      <td>69.590000</td>\n",
       "      <td>0.602000</td>\n",
       "      <td>4.490020e+05</td>\n",
       "      <td>1.768998e+02</td>\n",
       "      <td>2.057500</td>\n",
       "      <td>-1.490000</td>\n",
       "      <td>119.531875</td>\n",
       "    </tr>\n",
       "    <tr>\n",
       "      <th>50%</th>\n",
       "      <td>7.971300e+04</td>\n",
       "      <td>0.000000e+00</td>\n",
       "      <td>1.700000e+01</td>\n",
       "      <td>1.393000e+03</td>\n",
       "      <td>0.000000</td>\n",
       "      <td>0.143000</td>\n",
       "      <td>32240.542000</td>\n",
       "      <td>0.000000</td>\n",
       "      <td>4.197000</td>\n",
       "      <td>414.035000</td>\n",
       "      <td>...</td>\n",
       "      <td>33.100000</td>\n",
       "      <td>49.839000</td>\n",
       "      <td>2.500000</td>\n",
       "      <td>75.050000</td>\n",
       "      <td>0.740000</td>\n",
       "      <td>5.882259e+06</td>\n",
       "      <td>6.669150e+03</td>\n",
       "      <td>8.150000</td>\n",
       "      <td>5.660000</td>\n",
       "      <td>1245.880250</td>\n",
       "    </tr>\n",
       "    <tr>\n",
       "      <th>75%</th>\n",
       "      <td>8.516680e+05</td>\n",
       "      <td>0.000000e+00</td>\n",
       "      <td>4.024290e+02</td>\n",
       "      <td>1.257300e+04</td>\n",
       "      <td>0.000000</td>\n",
       "      <td>4.000000</td>\n",
       "      <td>155233.877000</td>\n",
       "      <td>0.000000</td>\n",
       "      <td>68.598000</td>\n",
       "      <td>1453.121000</td>\n",
       "      <td>...</td>\n",
       "      <td>41.300000</td>\n",
       "      <td>82.502000</td>\n",
       "      <td>4.200000</td>\n",
       "      <td>79.460000</td>\n",
       "      <td>0.829000</td>\n",
       "      <td>2.830170e+07</td>\n",
       "      <td>3.879063e+04</td>\n",
       "      <td>15.040000</td>\n",
       "      <td>15.710000</td>\n",
       "      <td>2872.872875</td>\n",
       "    </tr>\n",
       "    <tr>\n",
       "      <th>max</th>\n",
       "      <td>7.749544e+08</td>\n",
       "      <td>4.423623e+07</td>\n",
       "      <td>6.319461e+06</td>\n",
       "      <td>7.040264e+06</td>\n",
       "      <td>103719.000000</td>\n",
       "      <td>14817.000000</td>\n",
       "      <td>765370.756000</td>\n",
       "      <td>240325.866000</td>\n",
       "      <td>34332.267000</td>\n",
       "      <td>6485.570000</td>\n",
       "      <td>...</td>\n",
       "      <td>78.100000</td>\n",
       "      <td>100.000000</td>\n",
       "      <td>13.800000</td>\n",
       "      <td>86.750000</td>\n",
       "      <td>0.957000</td>\n",
       "      <td>7.975105e+09</td>\n",
       "      <td>1.327828e+06</td>\n",
       "      <td>78.080000</td>\n",
       "      <td>377.700000</td>\n",
       "      <td>10293.515000</td>\n",
       "    </tr>\n",
       "  </tbody>\n",
       "</table>\n",
       "<p>8 rows × 62 columns</p>\n",
       "</div>"
      ],
      "text/plain": [
       "        total_cases     new_cases  new_cases_smoothed  total_deaths  \\\n",
       "count  3.483330e+05  3.762800e+05        3.750500e+05  3.261090e+05   \n",
       "mean   7.386532e+06  8.728781e+03        8.756916e+03  8.996469e+04   \n",
       "std    4.398509e+07  2.397048e+05        9.038526e+04  4.566992e+05   \n",
       "min    1.000000e+00  0.000000e+00        0.000000e+00  1.000000e+00   \n",
       "25%    9.448000e+03  0.000000e+00        0.000000e+00  1.360000e+02   \n",
       "50%    7.971300e+04  0.000000e+00        1.700000e+01  1.393000e+03   \n",
       "75%    8.516680e+05  0.000000e+00        4.024290e+02  1.257300e+04   \n",
       "max    7.749544e+08  4.423623e+07        6.319461e+06  7.040264e+06   \n",
       "\n",
       "          new_deaths  new_deaths_smoothed  total_cases_per_million  \\\n",
       "count  376589.000000        375359.000000            348333.000000   \n",
       "mean       78.157939            78.405166            112347.967657   \n",
       "std      1424.517554           534.387547            160036.519608   \n",
       "min         0.000000             0.000000                 0.000000   \n",
       "25%         0.000000             0.000000              2954.509000   \n",
       "50%         0.000000             0.143000             32240.542000   \n",
       "75%         0.000000             4.000000            155233.877000   \n",
       "max    103719.000000         14817.000000            765370.756000   \n",
       "\n",
       "       new_cases_per_million  new_cases_smoothed_per_million  \\\n",
       "count          376280.000000                   375050.000000   \n",
       "mean              132.572340                      133.002194   \n",
       "std              1544.311765                      571.529927   \n",
       "min                 0.000000                        0.000000   \n",
       "25%                 0.000000                        0.000000   \n",
       "50%                 0.000000                        4.197000   \n",
       "75%                 0.000000                       68.598000   \n",
       "max            240325.866000                    34332.267000   \n",
       "\n",
       "       total_deaths_per_million  ...   male_smokers  handwashing_facilities  \\\n",
       "count             326109.000000  ...  222614.000000           147316.000000   \n",
       "mean                 918.307054  ...      32.910930               50.791490   \n",
       "std                 1131.569486  ...      13.572787               31.953565   \n",
       "min                    0.000000  ...       7.700000                1.188000   \n",
       "25%                   65.307000  ...      22.600000               20.859000   \n",
       "50%                  414.035000  ...      33.100000               49.839000   \n",
       "75%                 1453.121000  ...      41.300000               82.502000   \n",
       "max                 6485.570000  ...      78.100000              100.000000   \n",
       "\n",
       "       hospital_beds_per_thousand  life_expectancy  human_development_index  \\\n",
       "count               265566.000000    356661.000000            291623.000000   \n",
       "mean                     3.097389        73.711568                 0.722553   \n",
       "std                      2.548272         7.395040                 0.148998   \n",
       "min                      0.100000        53.280000                 0.394000   \n",
       "25%                      1.300000        69.590000                 0.602000   \n",
       "50%                      2.500000        75.050000                 0.740000   \n",
       "75%                      4.200000        79.460000                 0.829000   \n",
       "max                     13.800000        86.750000                 0.957000   \n",
       "\n",
       "         population  excess_mortality_cumulative_absolute  \\\n",
       "count  3.872230e+05                          1.317200e+04   \n",
       "mean   1.291081e+08                          5.571563e+04   \n",
       "std    6.628902e+08                          1.556166e+05   \n",
       "min    4.700000e+01                         -3.772610e+04   \n",
       "25%    4.490020e+05                          1.768998e+02   \n",
       "50%    5.882259e+06                          6.669150e+03   \n",
       "75%    2.830170e+07                          3.879063e+04   \n",
       "max    7.975105e+09                          1.327828e+06   \n",
       "\n",
       "       excess_mortality_cumulative  excess_mortality  \\\n",
       "count                 13172.000000      13172.000000   \n",
       "mean                      9.763578         10.992424   \n",
       "std                      12.025551         24.595139   \n",
       "min                     -44.230000        -95.920000   \n",
       "25%                       2.057500         -1.490000   \n",
       "50%                       8.150000          5.660000   \n",
       "75%                      15.040000         15.710000   \n",
       "max                      78.080000        377.700000   \n",
       "\n",
       "       excess_mortality_cumulative_per_million  \n",
       "count                             13172.000000  \n",
       "mean                               1772.580448  \n",
       "std                                1987.607815  \n",
       "min                               -2936.453100  \n",
       "25%                                 119.531875  \n",
       "50%                                1245.880250  \n",
       "75%                                2872.872875  \n",
       "max                               10293.515000  \n",
       "\n",
       "[8 rows x 62 columns]"
      ]
     },
     "execution_count": 6,
     "metadata": {},
     "output_type": "execute_result"
    }
   ],
   "source": [
    "covid.describe()"
   ]
  },
  {
   "cell_type": "code",
   "execution_count": 8,
   "id": "a70919fa-132f-4ae0-97e5-3ec28b34ee2e",
   "metadata": {},
   "outputs": [
    {
     "data": {
      "text/plain": [
       "iso_code                                    object\n",
       "continent                                   object\n",
       "location                                    object\n",
       "date                                        object\n",
       "total_cases                                float64\n",
       "                                            ...   \n",
       "population                                 float64\n",
       "excess_mortality_cumulative_absolute       float64\n",
       "excess_mortality_cumulative                float64\n",
       "excess_mortality                           float64\n",
       "excess_mortality_cumulative_per_million    float64\n",
       "Length: 67, dtype: object"
      ]
     },
     "execution_count": 8,
     "metadata": {},
     "output_type": "execute_result"
    }
   ],
   "source": [
    "covid.dtypes"
   ]
  },
  {
   "cell_type": "code",
   "execution_count": 9,
   "id": "ebca2316-c2f2-448b-b086-cee4e06eef4d",
   "metadata": {},
   "outputs": [
    {
     "data": {
      "text/plain": [
       "Index(['iso_code', 'continent', 'location', 'date', 'total_cases', 'new_cases',\n",
       "       'new_cases_smoothed', 'total_deaths', 'new_deaths',\n",
       "       'new_deaths_smoothed', 'total_cases_per_million',\n",
       "       'new_cases_per_million', 'new_cases_smoothed_per_million',\n",
       "       'total_deaths_per_million', 'new_deaths_per_million',\n",
       "       'new_deaths_smoothed_per_million', 'reproduction_rate', 'icu_patients',\n",
       "       'icu_patients_per_million', 'hosp_patients',\n",
       "       'hosp_patients_per_million', 'weekly_icu_admissions',\n",
       "       'weekly_icu_admissions_per_million', 'weekly_hosp_admissions',\n",
       "       'weekly_hosp_admissions_per_million', 'total_tests', 'new_tests',\n",
       "       'total_tests_per_thousand', 'new_tests_per_thousand',\n",
       "       'new_tests_smoothed', 'new_tests_smoothed_per_thousand',\n",
       "       'positive_rate', 'tests_per_case', 'tests_units', 'total_vaccinations',\n",
       "       'people_vaccinated', 'people_fully_vaccinated', 'total_boosters',\n",
       "       'new_vaccinations', 'new_vaccinations_smoothed',\n",
       "       'total_vaccinations_per_hundred', 'people_vaccinated_per_hundred',\n",
       "       'people_fully_vaccinated_per_hundred', 'total_boosters_per_hundred',\n",
       "       'new_vaccinations_smoothed_per_million',\n",
       "       'new_people_vaccinated_smoothed',\n",
       "       'new_people_vaccinated_smoothed_per_hundred', 'stringency_index',\n",
       "       'population_density', 'median_age', 'aged_65_older', 'aged_70_older',\n",
       "       'gdp_per_capita', 'extreme_poverty', 'cardiovasc_death_rate',\n",
       "       'diabetes_prevalence', 'female_smokers', 'male_smokers',\n",
       "       'handwashing_facilities', 'hospital_beds_per_thousand',\n",
       "       'life_expectancy', 'human_development_index', 'population',\n",
       "       'excess_mortality_cumulative_absolute', 'excess_mortality_cumulative',\n",
       "       'excess_mortality', 'excess_mortality_cumulative_per_million'],\n",
       "      dtype='object')"
      ]
     },
     "execution_count": 9,
     "metadata": {},
     "output_type": "execute_result"
    }
   ],
   "source": [
    "covid.columns"
   ]
  },
  {
   "cell_type": "markdown",
   "id": "37199802-8f59-4390-80b0-ff8db575aff2",
   "metadata": {},
   "source": [
    "•Si chiede poi per ogni continente di trovare il numero di casi totali avvenuti in quello stesso continente; si chiede di non considerare eventuali locazioni che nel dataset non appartengono ad alcun continente;"
   ]
  },
  {
   "cell_type": "code",
   "execution_count": 121,
   "id": "46121d89-c797-4006-ab5e-c553a4e35a1c",
   "metadata": {},
   "outputs": [
    {
     "data": {
      "text/plain": [
       "continent\n",
       "Africa           1.277678e+10\n",
       "Asia             2.099663e+11\n",
       "Europe           2.013888e+11\n",
       "North America    1.096626e+11\n",
       "Oceania          9.506027e+09\n",
       "South America    6.384417e+10\n",
       "Name: total_cases, dtype: float64"
      ]
     },
     "execution_count": 121,
     "metadata": {},
     "output_type": "execute_result"
    }
   ],
   "source": [
    "ncasi_continente = covid.groupby('continent')['total_cases'].sum()\n",
    "ncasi_continente"
   ]
  },
  {
   "cell_type": "markdown",
   "id": "b09df081-e80c-4a0c-a631-893f547fcc37",
   "metadata": {},
   "source": [
    "•Sempre riguardo i casi di COVID totali, si chiede di sviluppare una funzione che prenda in input il dataset e due nomi di continenti, e    che ne confronti i seguenti relativi descrittori statistici: valori minimo e massimo, media, e percentuale rispetto al numero dei casi totali nel mondo (calcolati anche sulle locazioni senza indicazione di continente);"
   ]
  },
  {
   "cell_type": "code",
   "execution_count": 74,
   "id": "cc423955-1e38-4cd3-96a0-df1f578d6d64",
   "metadata": {},
   "outputs": [
    {
     "name": "stdin",
     "output_type": "stream",
     "text": [
      "Inserisci il nome del dataset:  covid\n",
      "Inserisci il nome del primo continente:  Europe\n",
      "Inserisci il nome del secondo continente:  South America\n"
     ]
    },
    {
     "name": "stdout",
     "output_type": "stream",
     "text": [
      "Descrittori statistici per Europe e South America :\n",
      "Minimo: (1.0, 1.0)\n",
      "Massimo: (38997490.0, 37519960.0)\n",
      "Media: (2669240.02, 3108587.4)\n",
      "Percentuale dei casi totali nel mondo per Europe e South America : 86.7\n"
     ]
    }
   ],
   "source": [
    "dataset = input('Inserisci il nome del dataset: ')\n",
    "continente1 = input('Inserisci il nome del primo continente: ')\n",
    "continente2 = input('Inserisci il nome del secondo continente: ')\n",
    "\n",
    "#definisco la funzione\n",
    "def confronta_statistiche_continente(covid, continente1, continente2):\n",
    "\n",
    "    #filtro i dati in base ai due continenti indicati in imput\n",
    "    casi_continente1 = covid.loc[covid['continent'] == continente1, 'total_cases']\n",
    "    casi_continente2 = covid.loc[covid['continent'] == continente2, 'total_cases']\n",
    "\n",
    "    #calcolo i descrittori statistici\n",
    "    minimo = (casi_continente1.min(), casi_continente2.min())\n",
    "    massimo = (casi_continente1.max(), casi_continente2.max())\n",
    "    media = (casi_continente1.mean().round(2), casi_continente2.mean().round(2))\n",
    "    #calcolo la percentuale rispetto al numero dei casi totali nel mondo (calcolati anche sulle locazioni senza indicazione di continente)\n",
    "    casi_totali_mondo = covid['total_cases'].sum()\n",
    "    casi_senza_continente = covid.loc[covid['continent'].isna(), 'total_cases'].sum()\n",
    "    percentuale_rispetto_al_mondo = (\n",
    "        (casi_continente1.sum() + casi_continente2.sum() + casi_senza_continente) / casi_totali_mondo * 100\n",
    "    ).round(1)\n",
    "\n",
    "\n",
    "# Stampa i risultati anziché restituirli\n",
    "    print('Descrittori statistici per', continente1, 'e', continente2, ':')\n",
    "    print('Minimo:', minimo)\n",
    "    print('Massimo:', massimo)\n",
    "    print('Media:', media)\n",
    "    print('Percentuale dei casi totali nel mondo per', continente1, 'e', continente2, ':', percentuale_rispetto_al_mondo)\n",
    "\n",
    "# Eseguo la funzione con i nomi dei continenti e il dataset inseriti dall'utente in imput\n",
    "confronta_statistiche_continente(covid, continente1, continente2)"
   ]
  },
  {
   "cell_type": "code",
   "execution_count": 39,
   "id": "8e8df794-3b9e-433b-94b2-1bd045d26cd6",
   "metadata": {},
   "outputs": [
    {
     "data": {
      "text/plain": [
       "209966253167.0"
      ]
     },
     "execution_count": 39,
     "metadata": {},
     "output_type": "execute_result"
    }
   ],
   "source": [
    "#verifica\n",
    "casi_continente1 = covid.loc[covid['continent'] == 'Asia', 'total_cases'].sum()\n",
    "casi_continente1"
   ]
  },
  {
   "cell_type": "code",
   "execution_count": 40,
   "id": "8b45e1fa-72b7-4842-9fff-bee01b3c97fd",
   "metadata": {},
   "outputs": [
    {
     "data": {
      "text/plain": [
       "201388821111.0"
      ]
     },
     "execution_count": 40,
     "metadata": {},
     "output_type": "execute_result"
    }
   ],
   "source": [
    "#verifica\n",
    "casi_continente2 = covid.loc[covid['continent'] == 'Europe', 'total_cases'].sum()\n",
    "casi_continente2"
   ]
  },
  {
   "cell_type": "code",
   "execution_count": 41,
   "id": "ef147be6-fa03-45d0-9c60-fd941e0e7666",
   "metadata": {},
   "outputs": [
    {
     "data": {
      "text/plain": [
       "1965828052628.0"
      ]
     },
     "execution_count": 41,
     "metadata": {},
     "output_type": "execute_result"
    }
   ],
   "source": [
    "#verifica\n",
    "casi_senza_continente = covid.loc[covid['continent'].isna(), 'total_cases'].sum()\n",
    "casi_senza_continente"
   ]
  },
  {
   "cell_type": "code",
   "execution_count": 42,
   "id": "8c1d7663-9c94-4de1-9854-faddceefdaae",
   "metadata": {},
   "outputs": [
    {
     "data": {
      "text/plain": [
       "2572972698038.0"
      ]
     },
     "execution_count": 42,
     "metadata": {},
     "output_type": "execute_result"
    }
   ],
   "source": [
    "#verifica\n",
    "casi_totali_mondo = covid['total_cases'].sum()\n",
    "casi_totali_mondo"
   ]
  },
  {
   "cell_type": "code",
   "execution_count": 46,
   "id": "47237e0c-1c7b-4593-9367-980cd421d531",
   "metadata": {},
   "outputs": [
    {
     "data": {
      "text/plain": [
       "2377183126906.0"
      ]
     },
     "execution_count": 46,
     "metadata": {},
     "output_type": "execute_result"
    }
   ],
   "source": [
    "#verifica\n",
    "tot_casi_per_continenti_indicati = casi_continente1+casi_continente2+casi_senza_continente\n",
    "tot_casi_per_continenti_indicati"
   ]
  },
  {
   "cell_type": "code",
   "execution_count": 69,
   "id": "254a77f0-cd47-4958-a3b7-15665a3f3542",
   "metadata": {},
   "outputs": [
    {
     "data": {
      "text/plain": [
       "92.4"
      ]
     },
     "execution_count": 69,
     "metadata": {},
     "output_type": "execute_result"
    }
   ],
   "source": [
    "#verifica\n",
    "percentuale = (tot_casi_per_continenti_indicati/casi_totali_mondo *100).round(1)\n",
    "percentuale"
   ]
  },
  {
   "cell_type": "markdown",
   "id": "65b00793-eea6-42f9-9250-6b49338d46e8",
   "metadata": {},
   "source": [
    "•Si chiede poi di effettuare lo stesso tipo di analisi – anche in questo caso sviluppando una funzione ad hoc – per il numero di vaccinazioni totali per ogni continente;"
   ]
  },
  {
   "cell_type": "code",
   "execution_count": 75,
   "id": "ace0f389-4b0b-453e-b87f-07417557a135",
   "metadata": {},
   "outputs": [
    {
     "name": "stdin",
     "output_type": "stream",
     "text": [
      "Inserisci il nome del dataset:  covid\n",
      "Inserisci il nome del primo continente:  Europe\n",
      "Inserisci il nome del secondo continente:  Oceania\n"
     ]
    },
    {
     "name": "stdout",
     "output_type": "stream",
     "text": [
      "Descrittori statistici per Europe e Oceania :\n",
      "Minimo: (0.0, 0.0)\n",
      "Massimo: (192221468.0, 69306345.0)\n",
      "Media: (27185829.47, 12618282.01)\n",
      "Somma delle vaccinazioni totali del continente Europe : 726731593437.0\n",
      "Somma delle vaccinazioni totali del continente Oceania : 26056752359.0\n",
      "Percentuale delle vaccinazioni totali nel mondo per Europe e Oceania : 87.1\n"
     ]
    }
   ],
   "source": [
    "dataset = input('Inserisci il nome del dataset: ')\n",
    "continente1 = input('Inserisci il nome del primo continente: ')\n",
    "continente2 = input('Inserisci il nome del secondo continente: ')\n",
    "\n",
    "#definisco la funzione\n",
    "def confronta_vaccinazioni_continente(covid, continente1, continente2):\n",
    "\n",
    "    #filtro i dati in base ai due continenti indicati in imput\n",
    "    vaccinazioni_continente1 = covid.loc[covid['continent'] == continente1, 'total_vaccinations']\n",
    "    vaccinazioni_continente2 = covid.loc[covid['continent'] == continente2, 'total_vaccinations']\n",
    "\n",
    "    #calcolo i descrittori statistici\n",
    "    minimo = (vaccinazioni_continente1.min(), vaccinazioni_continente2.min())\n",
    "    massimo = (vaccinazioni_continente1.max(), vaccinazioni_continente2.max())\n",
    "    media = (vaccinazioni_continente1.mean().round(2), vaccinazioni_continente2.mean().round(2))\n",
    "    somma_tot_continente1 = vaccinazioni_continente1.sum()\n",
    "    somma_tot_continente2 = vaccinazioni_continente2.sum()\n",
    "    #calcolo la percentuale rispetto al numero dei casi totali nel mondo (calcolati anche sulle locazioni senza indicazione di continente)\n",
    "    vacc_totali_mondo = covid['total_vaccinations'].sum()\n",
    "    vacc_senza_continente = covid.loc[covid['continent'].isna(), 'total_vaccinations'].sum()\n",
    "    percentuale_rispetto_al_mondo = (\n",
    "        (vaccinazioni_continente1.sum() + vaccinazioni_continente2.sum() + vacc_senza_continente) / vacc_totali_mondo * 100\n",
    "    ).round(1)\n",
    "\n",
    "\n",
    "# Stampa i risultati anziché restituirli\n",
    "    print('Descrittori statistici per', continente1, 'e', continente2, ':')\n",
    "    print('Minimo:', minimo)\n",
    "    print('Massimo:', massimo)\n",
    "    print('Media:', media)\n",
    "    print('Somma delle vaccinazioni totali del continente', continente1, ':', somma_tot_continente1)\n",
    "    print('Somma delle vaccinazioni totali del continente', continente2, ':', somma_tot_continente2)\n",
    "    print('Percentuale delle vaccinazioni totali nel mondo per', continente1, 'e', continente2, ':', percentuale_rispetto_al_mondo)\n",
    "\n",
    "# Eseguo la funzione con i nomi dei continenti e il dataset inseriti dall'utente in imput\n",
    "confronta_vaccinazioni_continente(covid, continente1, continente2)"
   ]
  },
  {
   "cell_type": "code",
   "execution_count": 72,
   "id": "4c2a2be8-95e4-4568-ae4a-bdf453e48716",
   "metadata": {},
   "outputs": [
    {
     "data": {
      "text/plain": [
       "4418733146017.0"
      ]
     },
     "execution_count": 72,
     "metadata": {},
     "output_type": "execute_result"
    }
   ],
   "source": [
    "#verifica\n",
    "vaccinazioni_continente1 = covid.loc[covid['continent'] == 'Asia', 'total_vaccinations'].sum()\n",
    "vaccinazioni_continente1"
   ]
  },
  {
   "cell_type": "code",
   "execution_count": 70,
   "id": "2b8dda0e-2d39-4110-b945-81a748ac6df9",
   "metadata": {},
   "outputs": [
    {
     "data": {
      "text/plain": [
       "192221468.0"
      ]
     },
     "execution_count": 70,
     "metadata": {},
     "output_type": "execute_result"
    }
   ],
   "source": [
    "#verifica\n",
    "vaccinazioni_continente2 = covid.loc[covid['continent'] == 'Europe', 'total_vaccinations'].max()\n",
    "vaccinazioni_continente2"
   ]
  },
  {
   "cell_type": "code",
   "execution_count": 84,
   "id": "8b441f6b-6a2b-41fb-8d8c-b65430f59221",
   "metadata": {},
   "outputs": [
    {
     "data": {
      "text/plain": [
       "42262399767422.0"
      ]
     },
     "execution_count": 84,
     "metadata": {},
     "output_type": "execute_result"
    }
   ],
   "source": [
    "vacc_totali_mondo = covid['total_vaccinations'].sum()\n",
    "vacc_totali_mondo"
   ]
  },
  {
   "cell_type": "code",
   "execution_count": 76,
   "id": "d7049224-fa58-4748-aacd-0e796d3f1c9a",
   "metadata": {},
   "outputs": [
    {
     "data": {
      "text/plain": [
       "726731593437.0"
      ]
     },
     "execution_count": 76,
     "metadata": {},
     "output_type": "execute_result"
    }
   ],
   "source": [
    "vaccinazioni_Europe = covid.loc[covid['continent'] == 'Europe', 'total_vaccinations'].sum()\n",
    "vaccinazioni_Europe"
   ]
  },
  {
   "cell_type": "code",
   "execution_count": 86,
   "id": "57f97fb1-10fa-4d25-9a93-4698222a2591",
   "metadata": {},
   "outputs": [
    {
     "data": {
      "text/plain": [
       "1.7"
      ]
     },
     "execution_count": 86,
     "metadata": {},
     "output_type": "execute_result"
    }
   ],
   "source": [
    "(vaccinazioni_Europe/vacc_totali_mondo*100).round(1)"
   ]
  },
  {
   "cell_type": "code",
   "execution_count": 77,
   "id": "1c33b2f4-de10-41cf-a2a6-00c864c556f6",
   "metadata": {},
   "outputs": [
    {
     "data": {
      "text/plain": [
       "427146297549.0"
      ]
     },
     "execution_count": 77,
     "metadata": {},
     "output_type": "execute_result"
    }
   ],
   "source": [
    "vaccinazioni_SouthAmerica = covid.loc[covid['continent'] == 'South America', 'total_vaccinations'].sum()\n",
    "vaccinazioni_SouthAmerica"
   ]
  },
  {
   "cell_type": "code",
   "execution_count": 88,
   "id": "52c2b5d0-6565-47cc-bdc4-7eb6bfab34a2",
   "metadata": {},
   "outputs": [
    {
     "data": {
      "text/plain": [
       "1.0"
      ]
     },
     "execution_count": 88,
     "metadata": {},
     "output_type": "execute_result"
    }
   ],
   "source": [
    "(vaccinazioni_SouthAmerica/vacc_totali_mondo*100).round(1)"
   ]
  },
  {
   "cell_type": "code",
   "execution_count": 120,
   "id": "deb34fab-bd1b-48ee-88a4-e06be123dca9",
   "metadata": {},
   "outputs": [
    {
     "data": {
      "text/plain": [
       "26056752359.0"
      ]
     },
     "execution_count": 120,
     "metadata": {},
     "output_type": "execute_result"
    }
   ],
   "source": [
    "vaccinazioni_Oceania = covid.loc[covid['continent'] == 'Oceania', 'total_vaccinations'].sum()\n",
    "vaccinazioni_Oceania"
   ]
  },
  {
   "cell_type": "code",
   "execution_count": 89,
   "id": "ab10baee-c2d0-4f3b-8bf6-ba2db20c30d0",
   "metadata": {},
   "outputs": [
    {
     "data": {
      "text/plain": [
       "0.1"
      ]
     },
     "execution_count": 89,
     "metadata": {},
     "output_type": "execute_result"
    }
   ],
   "source": [
    "(vaccinazioni_Oceania/vacc_totali_mondo*100).round(1)"
   ]
  },
  {
   "cell_type": "code",
   "execution_count": 91,
   "id": "a4ed0513-b054-40aa-b445-86433206e449",
   "metadata": {},
   "outputs": [
    {
     "data": {
      "text/plain": [
       "2572972698038.0"
      ]
     },
     "execution_count": 91,
     "metadata": {},
     "output_type": "execute_result"
    }
   ],
   "source": [
    "casi_totali_mondo = covid['total_cases'].sum()\n",
    "casi_totali_mondo"
   ]
  },
  {
   "cell_type": "code",
   "execution_count": 119,
   "id": "08c71d6f-5ed3-48e5-a78b-2af720c43b6a",
   "metadata": {},
   "outputs": [
    {
     "data": {
      "text/plain": [
       "9506027179.0"
      ]
     },
     "execution_count": 119,
     "metadata": {},
     "output_type": "execute_result"
    }
   ],
   "source": [
    "casi_continente1 = covid.loc[covid['continent'] == 'Oceania', 'total_cases'].sum()\n",
    "casi_continente1"
   ]
  },
  {
   "cell_type": "code",
   "execution_count": 97,
   "id": "ad6dab54-0be9-4048-9919-6215c2688469",
   "metadata": {},
   "outputs": [
    {
     "data": {
      "text/plain": [
       "2.5"
      ]
     },
     "execution_count": 97,
     "metadata": {},
     "output_type": "execute_result"
    }
   ],
   "source": [
    "(casi_continente1/casi_totali_mondo*100).round(1)"
   ]
  },
  {
   "cell_type": "code",
   "execution_count": 117,
   "id": "9bf9180f-9445-43e5-be5e-e3e87b64f093",
   "metadata": {},
   "outputs": [
    {
     "data": {
      "text/plain": [
       "670258826882.0"
      ]
     },
     "execution_count": 117,
     "metadata": {},
     "output_type": "execute_result"
    }
   ],
   "source": [
    "casi_continente1 = covid.loc[covid['continent'] == 'South America', 'population'].sum()\n",
    "casi_continente1"
   ]
  },
  {
   "cell_type": "code",
   "execution_count": 118,
   "id": "7184a125-8a93-4d2d-a5f9-f958fe076a79",
   "metadata": {},
   "outputs": [
    {
     "data": {
      "text/plain": [
       "63.72855983651219"
      ]
     },
     "execution_count": 118,
     "metadata": {},
     "output_type": "execute_result"
    }
   ],
   "source": [
    "427146297549.0/670258826882.0*100"
   ]
  },
  {
   "cell_type": "markdown",
   "id": "6c70e046-f478-40e4-8808-d38584e808b1",
   "metadata": {},
   "source": [
    "•Alla fine, basandosi sui calcoli fatti, il committente chiede di stilare un breve (tre o quattro righe) paragrafo testuale riassuntivo sulle statistiche di casi e vaccinazioni, che si concentri solo sulle differenze esistenti tra Europa, Sud America e Oceania."
   ]
  },
  {
   "cell_type": "markdown",
   "id": "c54be41b-7c87-4987-aa37-b7bac0e3fb52",
   "metadata": {},
   "source": [
    "TOTALE VACCINAZIONI                    percentuale rispetto al totale mondiale            percentuale rispetto alla popolazione\n",
    "tot_vaccinazioni_Europe = 726731593437.0            1.7%                                                   58.6%\n",
    "tot_vaccinazioni_SouthAmerica = 427146297549.0      1.0%                                                   63.7%\n",
    "tot_vaccinazioni_Oceania = 26056752359.0            0.1%                                                   37.7%"
   ]
  },
  {
   "cell_type": "markdown",
   "id": "d1bdb386-b5ae-41a3-abe6-a5db08a3270b",
   "metadata": {},
   "source": [
    "TOTALE CASI                            percentuale rispetto al totale mondiale               percentuale rispetto alla popolazione\n",
    "tot_casi_Europe = 201388821111.0                 7.8%                                                       16.2%      \n",
    "tot_casi_SouthAmerica = 63844167999.0            2.5%                                                       9.5%\n",
    "tot_casi_Oceania = 9506027179.0                  0.4%                                                       13.7%"
   ]
  },
  {
   "cell_type": "markdown",
   "id": "fc5dbed4-0bca-45e9-a9aa-4c9a1754272d",
   "metadata": {},
   "source": [
    "Basandosi sui dati analizzati per l'Europa, il Sud America e l'Oceania, emergono alcune differenze significative nei casi di COVID-19 e nelle vaccinazioni. \n",
    "L'Europa presenta il numero più alto di casi totali, suggerendo una maggiore diffusione del virus nella regione. Tuttavia, è anche il continente con la percentuale più elevata di vaccinazioni rispetto al totale mondiale, indicando sforzi significativi per la vaccinazione. \n",
    "Al contrario, il Sud America mostra un livello significativo di casi, ma una percentuale di vaccinazioni inferiore rispetto alla popolazione mondiale, sebbene il totale di vaccinazioni rispetto alla sua popolazione sia più del 50%. \n",
    "Infine, l'Oceania mostra delle cifre decisamente più basse per entrambi i casi sia di vaccinazione che di contagio, suggerendo una situazione meno critica rispetto agli altri continenti. : 86.7"
   ]
  },
  {
   "cell_type": "markdown",
   "id": "9bbcf18d-9a27-47a9-b800-d8a59e3a5dbe",
   "metadata": {},
   "source": [
    "•Selezionare i dati relativi all'Italia nel 2022, e \n",
    "-mostrare con un grafico adeguato l'evoluzione del casi totali rispetto alla data. \n",
    "-Mostrare poi con un grafico adeguato il numero di nuovi casi rispetto alla data (filtrare i dati se necessario). \n",
    "-Mostrare infine un grafico che mostra l'andamento della somma cumulativa nuovi casi del 2022, e commentare se ci sono similarità con l'andamento del numero dei casi totali;"
   ]
  },
  {
   "cell_type": "code",
   "execution_count": 135,
   "id": "945f409a-2f32-42eb-b77a-b965051c4b0b",
   "metadata": {},
   "outputs": [],
   "source": [
    "import matplotlib.pyplot as plt\n",
    "import seaborn as sns"
   ]
  },
  {
   "cell_type": "code",
   "execution_count": 124,
   "id": "926316ec-6a93-40ad-b869-e0d472095fdb",
   "metadata": {},
   "outputs": [],
   "source": [
    "#trasformo la colonna date da 'oggetto' a formato 'Datetime'\n",
    "covid['date'] = pd.to_datetime(covid.date)"
   ]
  },
  {
   "cell_type": "code",
   "execution_count": 140,
   "id": "2cced137-df33-487f-9f64-fe0027e99d16",
   "metadata": {},
   "outputs": [],
   "source": [
    "italia_2022 = covid[(covid.location == 'Italy') & (pd.to_datetime(covid.date).dt.year == 2022)]"
   ]
  },
  {
   "cell_type": "markdown",
   "id": "dc0528c1-12e1-49cd-b3a3-678080ac82e5",
   "metadata": {},
   "source": [
    "•Selezionare i dati relativi all'Italia nel 2022, e \n",
    "-mostrare con un grafico adeguato l'evoluzione del casi totali rispetto alla data"
   ]
  },
  {
   "cell_type": "code",
   "execution_count": 155,
   "id": "59147957-72e5-44ab-9462-7684e2cdb9d6",
   "metadata": {},
   "outputs": [
    {
     "data": {
      "image/png": "[encoded data removed]",
      "text/plain": [
       "<Figure size 1000x600 with 1 Axes>"
      ]
     },
     "metadata": {},
     "output_type": "display_data"
    }
   ],
   "source": [
    "plt.figure(figsize=(10, 6))\n",
    "plt.plot(italia_2022['date'], italia_2022['total_cases'])\n",
    "plt.title('Evoluzione dei casi totali in Italia nel 2022')\n",
    "plt.xlabel('Data')\n",
    "plt.ylabel('Casi totali')\n",
    "plt.xticks(rotation=45)\n",
    "plt.grid(True)\n",
    "plt.show()"
   ]
  },
  {
   "cell_type": "markdown",
   "id": "89eb78ca-e548-4ff9-817e-d2377356670c",
   "metadata": {},
   "source": [
    "•Selezionare i dati relativi all'Italia nel 2022, e\n",
    "-Mostrare poi con un grafico adeguato il numero di nuovi casi rispetto alla data (filtrare i dati se necessario)"
   ]
  },
  {
   "cell_type": "code",
   "execution_count": 166,
   "id": "1bd7dbb0-c00d-4d2d-ac8b-87aeab7f9291",
   "metadata": {},
   "outputs": [
    {
     "data": {
      "image/png": "[encoded data removed]",
      "text/plain": [
       "<Figure size 1000x600 with 1 Axes>"
      ]
     },
     "metadata": {},
     "output_type": "display_data"
    }
   ],
   "source": [
    "plt.figure(figsize=(10, 6))\n",
    "plt.hist(italia_2022['date'], weights=italia_2022['new_cases'])\n",
    "plt.title('Numero di nuovi casi giornalieri in Italia nel 2022')\n",
    "plt.xlabel('Data')\n",
    "plt.ylabel('Nuovi casi')\n",
    "plt.grid(True)\n",
    "plt.show()"
   ]
  },
  {
   "cell_type": "markdown",
   "id": "73a3916b-47a3-4bf8-9a78-c6a9d2a63e16",
   "metadata": {},
   "source": [
    "•-Mostrare infine un grafico che mostra l'andamento della somma cumulativa nuovi casi del 2022, e commentare se ci sono similarità con l'andamento del numero dei casi totali;"
   ]
  },
  {
   "cell_type": "code",
   "execution_count": 214,
   "id": "6a97ee57-34ef-4a1d-9981-274357181288",
   "metadata": {},
   "outputs": [
    {
     "data": {
      "image/png": "[encoded data removed]",
      "text/plain": [
       "<Figure size 1000x600 with 1 Axes>"
      ]
     },
     "metadata": {},
     "output_type": "display_data"
    }
   ],
   "source": [
    "italia_2022['cumulative_new_cases'] = italia_2022['new_cases'].cumsum()\n",
    "plt.figure(figsize=(10, 6))\n",
    "plt.plot(italia_2022['date'], italia_2022['cumulative_new_cases'], label='Nuovi casi cumulativi', color='blue')\n",
    "plt.bar(italia_2022['date'], italia_2022['total_cases'], label='Casi totali', color='orange')\n",
    "plt.title('Andamento dei casi totali e dei nuovi casi cumulativi in Italia nel 2022')\n",
    "plt.xlabel('Data')\n",
    "plt.ylabel('Casi')\n",
    "plt.legend()\n",
    "plt.show()"
   ]
  },
  {
   "cell_type": "markdown",
   "id": "7edd7350-4821-4725-ba41-6189adc210f6",
   "metadata": {},
   "source": [
    "•Riguardo le nazioni di Italia, Germania e Francia, mostrare in un boxplot la differenza tra queste nazioni riguardo il numero di pazienti in terapia intensiva (Intensive Care Unit, ICU) da maggio 2022 (incluso) ad aprile 2023 (incluso), e scrivere un breve commento a riguardo;"
   ]
  },
  {
   "cell_type": "code",
   "execution_count": 182,
   "id": "406723fa-2453-4564-89c4-cf71e46e9a59",
   "metadata": {},
   "outputs": [],
   "source": [
    "filtri = covid[(covid['location'].isin(['Italy', 'Germany', 'France']))\n",
    "                & (covid['date'] >= '2022-05-01') & (covid['date'] <= '2023-04-30')]"
   ]
  },
  {
   "cell_type": "code",
   "execution_count": 183,
   "id": "9c94fd8d-1524-407c-900b-9d1d48429508",
   "metadata": {},
   "outputs": [
    {
     "data": {
      "image/png": "[encoded data removed]",
      "text/plain": [
       "<Figure size 1000x600 with 1 Axes>"
      ]
     },
     "metadata": {},
     "output_type": "display_data"
    }
   ],
   "source": [
    "plt.figure(figsize=(10, 6))\n",
    "sns.boxplot(x='location', y='icu_patients', data=filtri)\n",
    "plt.title('Differenza nel numero di pazienti in terapia intensiva (ICU) tra Italia, Germania e Francia (Maggio 2022 - Aprile 2023)')\n",
    "plt.xlabel('Nazione')\n",
    "plt.ylabel('Numero di pazienti in terapia intensiva (ICU)')\n",
    "plt.tight_layout()\n",
    "plt.show()"
   ]
  },
  {
   "cell_type": "markdown",
   "id": "381c127f-abfa-4be0-80d5-68eedd561606",
   "metadata": {},
   "source": [
    "•Riguardo le nazioni di Italia, Germania, Francia e Spagna nel 2023, mostrare la somma dei pazienti ospitalizzati per ognuna — se ci sono dati nulli, suggerire se può essere possibile gestirli tramite sostituzione o meno"
   ]
  },
  {
   "cell_type": "code",
   "execution_count": 192,
   "id": "a084c461-877f-40ff-8424-b681760cb11d",
   "metadata": {},
   "outputs": [
    {
     "name": "stdout",
     "output_type": "stream",
     "text": [
      "<class 'pandas.core.frame.DataFrame'>\n",
      "RangeIndex: 387223 entries, 0 to 387222\n",
      "Data columns (total 67 columns):\n",
      " #   Column                                      Non-Null Count   Dtype         \n",
      "---  ------                                      --------------   -----         \n",
      " 0   iso_code                                    387223 non-null  object        \n",
      " 1   continent                                   368708 non-null  object        \n",
      " 2   location                                    387223 non-null  object        \n",
      " 3   date                                        387223 non-null  datetime64[ns]\n",
      " 4   total_cases                                 348333 non-null  float64       \n",
      " 5   new_cases                                   376280 non-null  float64       \n",
      " 6   new_cases_smoothed                          375050 non-null  float64       \n",
      " 7   total_deaths                                326109 non-null  float64       \n",
      " 8   new_deaths                                  376589 non-null  float64       \n",
      " 9   new_deaths_smoothed                         375359 non-null  float64       \n",
      " 10  total_cases_per_million                     348333 non-null  float64       \n",
      " 11  new_cases_per_million                       376280 non-null  float64       \n",
      " 12  new_cases_smoothed_per_million              375050 non-null  float64       \n",
      " 13  total_deaths_per_million                    326109 non-null  float64       \n",
      " 14  new_deaths_per_million                      376589 non-null  float64       \n",
      " 15  new_deaths_smoothed_per_million             375359 non-null  float64       \n",
      " 16  reproduction_rate                           184817 non-null  float64       \n",
      " 17  icu_patients                                38641 non-null   float64       \n",
      " 18  icu_patients_per_million                    38641 non-null   float64       \n",
      " 19  hosp_patients                               40173 non-null   float64       \n",
      " 20  hosp_patients_per_million                   40173 non-null   float64       \n",
      " 21  weekly_icu_admissions                       10689 non-null   float64       \n",
      " 22  weekly_icu_admissions_per_million           10689 non-null   float64       \n",
      " 23  weekly_hosp_admissions                      24159 non-null   float64       \n",
      " 24  weekly_hosp_admissions_per_million          24159 non-null   float64       \n",
      " 25  total_tests                                 79387 non-null   float64       \n",
      " 26  new_tests                                   75403 non-null   float64       \n",
      " 27  total_tests_per_thousand                    79387 non-null   float64       \n",
      " 28  new_tests_per_thousand                      75403 non-null   float64       \n",
      " 29  new_tests_smoothed                          103965 non-null  float64       \n",
      " 30  new_tests_smoothed_per_thousand             103965 non-null  float64       \n",
      " 31  positive_rate                               95927 non-null   float64       \n",
      " 32  tests_per_case                              94348 non-null   float64       \n",
      " 33  tests_units                                 106788 non-null  object        \n",
      " 34  total_vaccinations                          83299 non-null   float64       \n",
      " 35  people_vaccinated                           79180 non-null   float64       \n",
      " 36  people_fully_vaccinated                     76061 non-null   float64       \n",
      " 37  total_boosters                              51487 non-null   float64       \n",
      " 38  new_vaccinations                            69049 non-null   float64       \n",
      " 39  new_vaccinations_smoothed                   190016 non-null  float64       \n",
      " 40  total_vaccinations_per_hundred              83299 non-null   float64       \n",
      " 41  people_vaccinated_per_hundred               79180 non-null   float64       \n",
      " 42  people_fully_vaccinated_per_hundred         76061 non-null   float64       \n",
      " 43  total_boosters_per_hundred                  51487 non-null   float64       \n",
      " 44  new_vaccinations_smoothed_per_million       190016 non-null  float64       \n",
      " 45  new_people_vaccinated_smoothed              187388 non-null  float64       \n",
      " 46  new_people_vaccinated_smoothed_per_hundred  187388 non-null  float64       \n",
      " 47  stringency_index                            197292 non-null  float64       \n",
      " 48  population_density                          329234 non-null  float64       \n",
      " 49  median_age                                  306039 non-null  float64       \n",
      " 50  aged_65_older                               295486 non-null  float64       \n",
      " 51  aged_70_older                               302971 non-null  float64       \n",
      " 52  gdp_per_capita                              300083 non-null  float64       \n",
      " 53  extreme_poverty                             193433 non-null  float64       \n",
      " 54  cardiovasc_death_rate                       300662 non-null  float64       \n",
      " 55  diabetes_prevalence                         316167 non-null  float64       \n",
      " 56  female_smokers                              225682 non-null  float64       \n",
      " 57  male_smokers                                222614 non-null  float64       \n",
      " 58  handwashing_facilities                      147316 non-null  float64       \n",
      " 59  hospital_beds_per_thousand                  265566 non-null  float64       \n",
      " 60  life_expectancy                             356661 non-null  float64       \n",
      " 61  human_development_index                     291623 non-null  float64       \n",
      " 62  population                                  387223 non-null  float64       \n",
      " 63  excess_mortality_cumulative_absolute        13172 non-null   float64       \n",
      " 64  excess_mortality_cumulative                 13172 non-null   float64       \n",
      " 65  excess_mortality                            13172 non-null   float64       \n",
      " 66  excess_mortality_cumulative_per_million     13172 non-null   float64       \n",
      "dtypes: datetime64[ns](1), float64(62), object(4)\n",
      "memory usage: 197.9+ MB\n"
     ]
    }
   ],
   "source": [
    "covid.info()"
   ]
  },
  {
   "cell_type": "code",
   "execution_count": 193,
   "id": "352b94c9-adb7-4eb4-87d3-fa27a02ca80a",
   "metadata": {},
   "outputs": [
    {
     "name": "stdout",
     "output_type": "stream",
     "text": [
      "Somma dei pazienti ospedalizzati per nazione nel 2023:\n",
      "location\n",
      "France     1382574.0\n",
      "Germany          0.0\n",
      "Italy      1175272.0\n",
      "Spain       354602.0\n",
      "Name: hosp_patients, dtype: float64\n"
     ]
    }
   ],
   "source": [
    "filtri = covid[(covid['location'].isin(['Italy', 'Germany', 'France', 'Spain'])) & (pd.to_datetime(covid.date).dt.year == 2023)]\n",
    "\n",
    "ospitalizzati = filtri.groupby('location')['hosp_patients'].sum()\n",
    "\n",
    "# Stampa la somma dei pazienti ospedalizzati per ogni nazione\n",
    "print(\"Somma dei pazienti ospedalizzati per nazione nel 2023:\")\n",
    "print(ospitalizzati)"
   ]
  },
  {
   "cell_type": "code",
   "execution_count": 196,
   "id": "f2cb76a0-0fa6-4be7-b475-0e77bc6c6434",
   "metadata": {},
   "outputs": [
    {
     "name": "stdout",
     "output_type": "stream",
     "text": [
      "Dati nulli:\n",
      "       iso_code continent location       date  total_cases  new_cases  \\\n",
      "117699      FRA    Europe   France 2023-04-01   38588428.0        0.0   \n",
      "117700      FRA    Europe   France 2023-04-02   38645710.0    57282.0   \n",
      "117701      FRA    Europe   France 2023-04-03   38645710.0        0.0   \n",
      "117702      FRA    Europe   France 2023-04-04   38645710.0        0.0   \n",
      "117703      FRA    Europe   France 2023-04-05   38645710.0        0.0   \n",
      "...         ...       ...      ...        ...          ...        ...   \n",
      "327792      ESP    Europe    Spain 2023-12-27   13980340.0        NaN   \n",
      "327793      ESP    Europe    Spain 2023-12-28   13980340.0        NaN   \n",
      "327794      ESP    Europe    Spain 2023-12-29   13980340.0        NaN   \n",
      "327795      ESP    Europe    Spain 2023-12-30   13980340.0        NaN   \n",
      "327796      ESP    Europe    Spain 2023-12-31   13980340.0        NaN   \n",
      "\n",
      "        new_cases_smoothed  total_deaths  new_deaths  new_deaths_smoothed  \\\n",
      "117699            7799.000      165869.0         0.0                 24.0   \n",
      "117700            8183.143      166079.0       210.0                 30.0   \n",
      "117701            8183.143      166079.0         0.0                 30.0   \n",
      "117702            8183.143      166079.0         0.0                 30.0   \n",
      "117703            8183.143      166079.0         0.0                 30.0   \n",
      "...                    ...           ...         ...                  ...   \n",
      "327792                 NaN      121852.0         NaN                  NaN   \n",
      "327793                 NaN      121852.0         NaN                  NaN   \n",
      "327794                 NaN      121852.0         NaN                  NaN   \n",
      "327795                 NaN      121852.0         NaN                  NaN   \n",
      "327796                 NaN      121852.0         NaN                  NaN   \n",
      "\n",
      "        ...  male_smokers  handwashing_facilities  hospital_beds_per_thousand  \\\n",
      "117699  ...          35.6                     NaN                        5.98   \n",
      "117700  ...          35.6                     NaN                        5.98   \n",
      "117701  ...          35.6                     NaN                        5.98   \n",
      "117702  ...          35.6                     NaN                        5.98   \n",
      "117703  ...          35.6                     NaN                        5.98   \n",
      "...     ...           ...                     ...                         ...   \n",
      "327792  ...          31.4                     NaN                        2.97   \n",
      "327793  ...          31.4                     NaN                        2.97   \n",
      "327794  ...          31.4                     NaN                        2.97   \n",
      "327795  ...          31.4                     NaN                        2.97   \n",
      "327796  ...          31.4                     NaN                        2.97   \n",
      "\n",
      "        life_expectancy  human_development_index  population  \\\n",
      "117699            82.66                    0.901  67813000.0   \n",
      "117700            82.66                    0.901  67813000.0   \n",
      "117701            82.66                    0.901  67813000.0   \n",
      "117702            82.66                    0.901  67813000.0   \n",
      "117703            82.66                    0.901  67813000.0   \n",
      "...                 ...                      ...         ...   \n",
      "327792            83.56                    0.904  47558632.0   \n",
      "327793            83.56                    0.904  47558632.0   \n",
      "327794            83.56                    0.904  47558632.0   \n",
      "327795            83.56                    0.904  47558632.0   \n",
      "327796            83.56                    0.904  47558632.0   \n",
      "\n",
      "        excess_mortality_cumulative_absolute  excess_mortality_cumulative  \\\n",
      "117699                                   NaN                          NaN   \n",
      "117700                             116463.03                         5.78   \n",
      "117701                                   NaN                          NaN   \n",
      "117702                                   NaN                          NaN   \n",
      "117703                                   NaN                          NaN   \n",
      "...                                      ...                          ...   \n",
      "327792                                   NaN                          NaN   \n",
      "327793                                   NaN                          NaN   \n",
      "327794                                   NaN                          NaN   \n",
      "327795                                   NaN                          NaN   \n",
      "327796                             148088.22                         8.75   \n",
      "\n",
      "        excess_mortality  excess_mortality_cumulative_per_million  \n",
      "117699               NaN                                      NaN  \n",
      "117700             -5.08                                 1798.474  \n",
      "117701               NaN                                      NaN  \n",
      "117702               NaN                                      NaN  \n",
      "117703               NaN                                      NaN  \n",
      "...                  ...                                      ...  \n",
      "327792               NaN                                      NaN  \n",
      "327793               NaN                                      NaN  \n",
      "327794               NaN                                      NaN  \n",
      "327795               NaN                                      NaN  \n",
      "327796             18.45                                 3116.359  \n",
      "\n",
      "[843 rows x 67 columns]\n"
     ]
    }
   ],
   "source": [
    "valori_nulli = filtri[filtri['hosp_patients'].isnull()]\n",
    "print(\"Dati nulli:\")\n",
    "print(valori_nulli)"
   ]
  },
  {
   "cell_type": "markdown",
   "id": "24848270-12f7-45ae-9749-06616b2c42ce",
   "metadata": {},
   "source": [
    "Suggerimenti per gestire i dati nulli:\n",
    "\n",
    "- Se i dati mancanti sono limitati e possono essere interpolati o sostituiti con il valore medio, potrebbe essere possibile gestirli.\n",
    "- Tuttavia, se ci sono molti dati mancanti o se la loro sostituzione introduce un elevata incertezza, potrebbe essere meglio escluderli dall analisi."
   ]
  }
 ],
 "metadata": {
  "kernelspec": {
   "display_name": "Python 3 (ipykernel)",
   "language": "python",
   "name": "python3"
  },
  "language_info": {
   "codemirror_mode": {
    "name": "ipython",
    "version": 3
   },
   "file_extension": ".py",
   "mimetype": "text/x-python",
   "name": "python",
   "nbconvert_exporter": "python",
   "pygments_lexer": "ipython3",
   "version": "3.11.7"
  }
 },
 "nbformat": 4,
 "nbformat_minor": 5
}

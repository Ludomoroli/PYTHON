{
 "cells": [
  {
   "cell_type": "code",
   "execution_count": 1,
   "id": "d421b87f-5bd1-4678-b3df-14a35cbbfa37",
   "metadata": {},
   "outputs": [
    {
     "data": {
      "text/plain": [
       "'\\nFare la spesa:\\n\\nfai la lista\\nlatte, pasta, sugo\\nvai al supermercato\\nprendi latte\\nprendi pasta\\nprendi sugo\\ncontrolla di aver preso tutto\\nvai alla cassa\\npaga\\nmetti i prodotti nella busta\\ntorna a casa\\n\\n'"
      ]
     },
     "execution_count": 1,
     "metadata": {},
     "output_type": "execute_result"
    }
   ],
   "source": [
    "\"\"\"\n",
    "Fare la spesa:\n",
    "\n",
    "fai la lista\n",
    "latte, pasta, sugo\n",
    "vai al supermercato\n",
    "prendi latte\n",
    "prendi pasta\n",
    "prendi sugo\n",
    "controlla di aver preso tutto\n",
    "vai alla cassa\n",
    "paga\n",
    "metti i prodotti nella busta\n",
    "torna a casa\n",
    "\n",
    "\"\"\""
   ]
  },
  {
   "cell_type": "code",
   "execution_count": 2,
   "id": "567a72da-4d5d-4a23-bc1a-2aa4d7930072",
   "metadata": {},
   "outputs": [
    {
     "data": {
      "text/plain": [
       "\"\\nacquistare uno snack da un distributore automatico\\n\\nscegliere il prodotto\\nverificare il prezzo del prodotto scelto\\ninserire la moneta\\ninserire il codice del prodotto nel tastierino\\naspettare l'erogazione\\nprelevare il prodotto\\n\\n\""
      ]
     },
     "execution_count": 2,
     "metadata": {},
     "output_type": "execute_result"
    }
   ],
   "source": [
    "\"\"\"\n",
    "acquistare uno snack da un distributore automatico\n",
    "\n",
    "scegliere il prodotto\n",
    "verificare il prezzo del prodotto scelto\n",
    "inserire la moneta\n",
    "inserire il codice del prodotto nel tastierino\n",
    "aspettare l'erogazione\n",
    "prelevare il prodotto\n",
    "\n",
    "\"\"\"\n"
   ]
  },
  {
   "cell_type": "code",
   "execution_count": 13,
   "id": "abb9dd28-c249-46d0-93c3-a60d1ab1cf2c",
   "metadata": {},
   "outputs": [
    {
     "data": {
      "text/plain": [
       "\"\\nfare la pasta:\\n\\n1.mettere l'acqua nella pentola\\n2.mettere la pentola sul fuoco\\n3.aspettare che l'acqua bolle\\n4.mettere il sale nell'acqua\\n5.mettere la pasta\\n6.aspettare che sia cotta\\n7.assaggiare\\n8.se ancora non è cotta tornare al punto 6\\n9.scolare la pasta\\n10.condire la pasta\\n\\n\""
      ]
     },
     "execution_count": 13,
     "metadata": {},
     "output_type": "execute_result"
    }
   ],
   "source": [
    "\"\"\"\n",
    "fare la pasta:\n",
    "\n",
    "1.mettere l'acqua nella pentola\n",
    "2.mettere la pentola sul fuoco\n",
    "3.aspettare che l'acqua bolle\n",
    "4.mettere il sale nell'acqua\n",
    "5.mettere la pasta\n",
    "6.aspettare che sia cotta\n",
    "7.assaggiare\n",
    "8.se ancora non è cotta tornare al punto 6\n",
    "9.scolare la pasta\n",
    "10.condire la pasta\n",
    "\n",
    "\"\"\"\n"
   ]
  },
  {
   "cell_type": "code",
   "execution_count": 6,
   "id": "89ac6239-4b91-4199-86f5-d14c0605e788",
   "metadata": {},
   "outputs": [],
   "source": [
    "#Abbiamo 25 studenti; memorizzare questo dato in una variabile.\n",
    "\n",
    "studenti = 25"
   ]
  },
  {
   "cell_type": "code",
   "execution_count": 7,
   "id": "2c71808d-16eb-4cb3-9886-bde1bebf741b",
   "metadata": {},
   "outputs": [
    {
     "name": "stdout",
     "output_type": "stream",
     "text": [
      "25\n"
     ]
    }
   ],
   "source": [
    "#Abbiamo 25 studenti; memorizzare questo dato in una variabile e stamparla a video.\n",
    "\n",
    "print(studenti)"
   ]
  },
  {
   "cell_type": "code",
   "execution_count": 8,
   "id": "7278b3fe-77e9-4b1c-951e-8a29ae36b12c",
   "metadata": {},
   "outputs": [],
   "source": [
    "#Arrivano altri 3 studenti; memorizzare questo dato in un'altra variabile.\n",
    "\n",
    "studenti2 = 3"
   ]
  },
  {
   "cell_type": "code",
   "execution_count": 9,
   "id": "a1c0d856-fdf2-4518-856f-aeac604db914",
   "metadata": {},
   "outputs": [],
   "source": [
    "#Creare un'altra variabile ancora che conterrà la somma delle prime due, poi stamparla a video.\n",
    "\n",
    "tot_studenti = studenti + studenti2"
   ]
  },
  {
   "cell_type": "code",
   "execution_count": 10,
   "id": "b41808a2-6978-4f3b-81bc-bb229a4e0a9a",
   "metadata": {},
   "outputs": [
    {
     "name": "stdout",
     "output_type": "stream",
     "text": [
      "28\n"
     ]
    }
   ],
   "source": [
    "print(tot_studenti)"
   ]
  },
  {
   "cell_type": "code",
   "execution_count": 11,
   "id": "f77d2722-fe6b-4240-ad2a-7b396fe18470",
   "metadata": {},
   "outputs": [],
   "source": [
    "#Creare una variabile che contiene la stringa \"Epicode\", quindi stamparla a video.\n",
    "\n",
    "corso = 'Epicode'"
   ]
  },
  {
   "cell_type": "code",
   "execution_count": 12,
   "id": "a6c54249-7c84-4f4f-8081-522006fa5738",
   "metadata": {},
   "outputs": [
    {
     "name": "stdout",
     "output_type": "stream",
     "text": [
      "Epicode\n"
     ]
    }
   ],
   "source": [
    "print(corso)"
   ]
  },
  {
   "cell_type": "code",
   "execution_count": 15,
   "id": "685244d0-73ab-4216-9cef-0b203609fa98",
   "metadata": {},
   "outputs": [
    {
     "name": "stdout",
     "output_type": "stream",
     "text": [
      "36\n"
     ]
    }
   ],
   "source": [
    "\"\"\" Abbiamo la variabile: x = 10 Incrementarla di 2 e poi moltiplicarla per 3 \n",
    "Usare due metodi diversi (ad esempio, uno utilizzando gli operatori di assegnazione, e uno senza) \"\"\"\n",
    "\n",
    "x = 10\n",
    "x = (10 + 2)* 3\n",
    "print(x)"
   ]
  },
  {
   "cell_type": "code",
   "execution_count": 16,
   "id": "3c3e68c4-3352-42f7-ac70-591fee4eea65",
   "metadata": {},
   "outputs": [
    {
     "name": "stdout",
     "output_type": "stream",
     "text": [
      "36\n"
     ]
    }
   ],
   "source": [
    "#secondo metodo \n",
    "\n",
    "x = 10\n",
    "x += 2 \n",
    "x *= 3\n",
    "print(x)\n"
   ]
  },
  {
   "cell_type": "code",
   "execution_count": 38,
   "id": "13bf4e60-5127-488f-97cd-f4efd5499833",
   "metadata": {},
   "outputs": [
    {
     "name": "stdout",
     "output_type": "stream",
     "text": [
      "compreso\n",
      "compreso\n",
      "non compreso\n",
      "non compreso\n"
     ]
    }
   ],
   "source": [
    "#Verificare, per ognuna delle seguenti stringhe, se il numero di caratteri è compreso tra 5 e 8:\n",
    "\n",
    "str1 = \"Windows\"\n",
    "if len(str1) >= 5 and len(str1) <= 8:\n",
    "    print(\"compreso\")\n",
    "else:\n",
    "    print(\"non compreso\")\n",
    "\n",
    "\n",
    "str2 = \"Excel\"\n",
    "if len(str2) >= 5 and len(str2) <= 8:\n",
    "    print(\"compreso\")\n",
    "else:\n",
    "    print(\"non compreso\")\n",
    "\n",
    "\n",
    "str3 = \"Powerpoint\"\n",
    "if len(str3) >= 5 and len(str3) <= 8:\n",
    "    print(\"compreso\")\n",
    "else:\n",
    "    print(\"non compreso\")\n",
    "\n",
    "\n",
    "str4 = \"Word\"\n",
    "if len(str4) >= 5 and len(str4) <= 8:\n",
    "    print(\"compreso\")\n",
    "else:\n",
    "    print(\"non compreso\")"
   ]
  },
  {
   "cell_type": "code",
   "execution_count": 40,
   "id": "b35d9012-f208-438a-87e7-ea9c7f741b1d",
   "metadata": {},
   "outputs": [
    {
     "name": "stdout",
     "output_type": "stream",
     "text": [
      "in un anno non bisestile ci sono:  31536000 secondi\n"
     ]
    }
   ],
   "source": [
    "#Calcolare e stampare a video quanti secondi ci sono in un anno non bisestile\n",
    "\"\"\" 1 anno=365 giorni, 1 giorno=24 ore, 1 ora=60 minuti, 1 minuto=60 secondi \"\"\"\n",
    "secondi = 60*60*24*365\n",
    "print (\"in un anno non bisestile ci sono: \", secondi, \"secondi\")\n"
   ]
  },
  {
   "cell_type": "code",
   "execution_count": 45,
   "id": "c9c5e5a2-4ab5-4c42-8ac6-f1f2a27a4f19",
   "metadata": {},
   "outputs": [],
   "source": [
    "#Abbiamo la seguente stringa: my_string = \"I am studying Python\" \n",
    "my_string = \"I am studying Python\""
   ]
  },
  {
   "cell_type": "code",
   "execution_count": 46,
   "id": "269efdd8-f349-404d-b1a9-3094ffbddc2a",
   "metadata": {},
   "outputs": [
    {
     "data": {
      "text/plain": [
       "'I AM STUDYING PYTHON'"
      ]
     },
     "execution_count": 46,
     "metadata": {},
     "output_type": "execute_result"
    }
   ],
   "source": [
    "#Trasformarla in modo che tutti i caratteri siano maiuscoli (uppercase)\n",
    "str.upper(my_string)"
   ]
  },
  {
   "cell_type": "code",
   "execution_count": 47,
   "id": "8f8505df-4918-4e00-a225-1b41ff441fdf",
   "metadata": {},
   "outputs": [
    {
     "data": {
      "text/plain": [
       "'i am studying python'"
      ]
     },
     "execution_count": 47,
     "metadata": {},
     "output_type": "execute_result"
    }
   ],
   "source": [
    "#Trasformarla in modo che tutti i caratteri siano minuscoli (lowercase)\n",
    "str.lower(my_string)"
   ]
  },
  {
   "cell_type": "code",
   "execution_count": 48,
   "id": "34a7a522-951e-40dc-aa25-9d6cc9f5938a",
   "metadata": {},
   "outputs": [
    {
     "data": {
      "text/plain": [
       "'I am studying a lot'"
      ]
     },
     "execution_count": 48,
     "metadata": {},
     "output_type": "execute_result"
    }
   ],
   "source": [
    "#Sostituire la sottostringa \"Python\" con la stringa \"a lot\"\n",
    "my_string.replace(\"Python\", \"a lot\")"
   ]
  },
  {
   "cell_type": "code",
   "execution_count": 49,
   "id": "9aca09b7-9199-4755-8caa-810a95afcd71",
   "metadata": {},
   "outputs": [
    {
     "data": {
      "text/plain": [
       "'I am studying Python'"
      ]
     },
     "execution_count": 49,
     "metadata": {},
     "output_type": "execute_result"
    }
   ],
   "source": [
    "#Usare il metodo .strip(); cambia qualcosa? Perché?\n",
    "str.strip(my_string)\n",
    "\n",
    "# Non cambia nulla, perchè la funzione restituisce una copia della stringa senza spazi vuoti all'inizio e alla fine"
   ]
  },
  {
   "cell_type": "code",
   "execution_count": null,
   "id": "49550798-b600-46fb-99d4-223fb0f6c07a",
   "metadata": {},
   "outputs": [],
   "source": []
  }
 ],
 "metadata": {
  "kernelspec": {
   "display_name": "Python 3 (ipykernel)",
   "language": "python",
   "name": "python3"
  },
  "language_info": {
   "codemirror_mode": {
    "name": "ipython",
    "version": 3
   },
   "file_extension": ".py",
   "mimetype": "text/x-python",
   "name": "python",
   "nbconvert_exporter": "python",
   "pygments_lexer": "ipython3",
   "version": "3.11.7"
  }
 },
 "nbformat": 4,
 "nbformat_minor": 5
}
